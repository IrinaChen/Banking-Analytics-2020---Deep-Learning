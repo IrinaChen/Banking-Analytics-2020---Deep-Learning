{
  "nbformat": 4,
  "nbformat_minor": 0,
  "metadata": {
    "colab": {
      "name": "Coursework03Q1",
      "provenance": [],
      "collapsed_sections": [],
      "authorship_tag": "ABX9TyPJ4swTpN1/wuCPk+rfP3YN",
      "include_colab_link": true
    },
    "kernelspec": {
      "name": "python3",
      "display_name": "Python 3"
    }
  },
  "cells": [
    {
      "cell_type": "markdown",
      "metadata": {
        "id": "view-in-github",
        "colab_type": "text"
      },
      "source": [
        "<a href=\"https://colab.research.google.com/github/IrinaChen/Banking-Analytics-2020---Deep-Learning/blob/main/Coursework03Q1%20-Logistic%20Regression%20model.ipynb\" target=\"_parent\"><img src=\"https://colab.research.google.com/assets/colab-badge.svg\" alt=\"Open In Colab\"/></a>"
      ]
    },
    {
      "cell_type": "markdown",
      "metadata": {
        "id": "YQt2O2iDhy9Q"
      },
      "source": [
        "##Q1."
      ]
    },
    {
      "cell_type": "code",
      "metadata": {
        "colab": {
          "base_uri": "https://localhost:8080/"
        },
        "id": "HBERPl9VheGN",
        "outputId": "44093f5e-1c18-45c9-f333-3827dec492b8"
      },
      "source": [
        "from google.colab import drive\r\n",
        "drive.mount(\"/content/drive\")"
      ],
      "execution_count": null,
      "outputs": [
        {
          "output_type": "stream",
          "text": [
            "Mounted at /content/drive\n"
          ],
          "name": "stdout"
        }
      ]
    },
    {
      "cell_type": "code",
      "metadata": {
        "id": "RSqZ1DcEhmPO"
      },
      "source": [
        "import pandas as pd\r\n",
        "\r\n",
        "data = pd.read_csv(\"/content/drive/My Drive/DefaultRiskperArea.csv\")"
      ],
      "execution_count": null,
      "outputs": []
    },
    {
      "cell_type": "code",
      "metadata": {
        "id": "HsEIDUIkDY1E"
      },
      "source": [
        "# Import all the packages we need\r\n",
        "from string import ascii_letters\r\n",
        "import numpy as np\r\n",
        "import matplotlib.pyplot as plt\r\n",
        "import seaborn as sns\r\n",
        "%matplotlib inline"
      ],
      "execution_count": null,
      "outputs": []
    },
    {
      "cell_type": "code",
      "metadata": {
        "colab": {
          "base_uri": "https://localhost:8080/",
          "height": 197
        },
        "id": "fhWSnwhph2R3",
        "outputId": "86354e35-a1e0-4995-9282-5ffdfea59f84"
      },
      "source": [
        "# check data\r\n",
        "data.head()"
      ],
      "execution_count": null,
      "outputs": [
        {
          "output_type": "execute_result",
          "data": {
            "text/html": [
              "<div>\n",
              "<style scoped>\n",
              "    .dataframe tbody tr th:only-of-type {\n",
              "        vertical-align: middle;\n",
              "    }\n",
              "\n",
              "    .dataframe tbody tr th {\n",
              "        vertical-align: top;\n",
              "    }\n",
              "\n",
              "    .dataframe thead th {\n",
              "        text-align: right;\n",
              "    }\n",
              "</style>\n",
              "<table border=\"1\" class=\"dataframe\">\n",
              "  <thead>\n",
              "    <tr style=\"text-align: right;\">\n",
              "      <th></th>\n",
              "      <th>fico</th>\n",
              "      <th>mi_pct</th>\n",
              "      <th>cnt_units</th>\n",
              "      <th>cltv</th>\n",
              "      <th>ltv</th>\n",
              "      <th>cnt_borr</th>\n",
              "      <th>occpy_sts_S</th>\n",
              "      <th>channel_C</th>\n",
              "      <th>channel_T</th>\n",
              "      <th>prop_type_MH</th>\n",
              "      <th>prop_type_PU</th>\n",
              "      <th>loan_purpose_N</th>\n",
              "      <th>Area_Number</th>\n",
              "      <th>BinaryDefault</th>\n",
              "    </tr>\n",
              "  </thead>\n",
              "  <tbody>\n",
              "    <tr>\n",
              "      <th>0</th>\n",
              "      <td>1.815482</td>\n",
              "      <td>-2.997902</td>\n",
              "      <td>0.277646</td>\n",
              "      <td>-4.035187</td>\n",
              "      <td>-3.964115</td>\n",
              "      <td>-2.273682</td>\n",
              "      <td>0.148702</td>\n",
              "      <td>-1.594817</td>\n",
              "      <td>-0.035245</td>\n",
              "      <td>-0.501916</td>\n",
              "      <td>-0.949227</td>\n",
              "      <td>-0.493965</td>\n",
              "      <td>634.0</td>\n",
              "      <td>0</td>\n",
              "    </tr>\n",
              "    <tr>\n",
              "      <th>1</th>\n",
              "      <td>-0.521829</td>\n",
              "      <td>-2.227060</td>\n",
              "      <td>3.498789</td>\n",
              "      <td>-1.810005</td>\n",
              "      <td>-1.772268</td>\n",
              "      <td>-0.171886</td>\n",
              "      <td>-0.751896</td>\n",
              "      <td>-0.865516</td>\n",
              "      <td>-0.035245</td>\n",
              "      <td>-0.501916</td>\n",
              "      <td>-0.199528</td>\n",
              "      <td>-0.816696</td>\n",
              "      <td>417.0</td>\n",
              "      <td>0</td>\n",
              "    </tr>\n",
              "    <tr>\n",
              "      <th>2</th>\n",
              "      <td>-0.457652</td>\n",
              "      <td>-2.095699</td>\n",
              "      <td>10.741067</td>\n",
              "      <td>-1.211170</td>\n",
              "      <td>-1.174970</td>\n",
              "      <td>-1.394290</td>\n",
              "      <td>-0.712228</td>\n",
              "      <td>0.155562</td>\n",
              "      <td>-0.035245</td>\n",
              "      <td>-0.501916</td>\n",
              "      <td>-0.934777</td>\n",
              "      <td>-0.587245</td>\n",
              "      <td>678.0</td>\n",
              "      <td>0</td>\n",
              "    </tr>\n",
              "    <tr>\n",
              "      <th>3</th>\n",
              "      <td>0.636380</td>\n",
              "      <td>-0.929451</td>\n",
              "      <td>0.754667</td>\n",
              "      <td>-0.616046</td>\n",
              "      <td>-0.606611</td>\n",
              "      <td>0.626942</td>\n",
              "      <td>-0.663063</td>\n",
              "      <td>-0.827111</td>\n",
              "      <td>-0.035245</td>\n",
              "      <td>-0.501916</td>\n",
              "      <td>-0.676832</td>\n",
              "      <td>-0.666799</td>\n",
              "      <td>490.0</td>\n",
              "      <td>1</td>\n",
              "    </tr>\n",
              "    <tr>\n",
              "      <th>4</th>\n",
              "      <td>0.324697</td>\n",
              "      <td>-0.815769</td>\n",
              "      <td>0.896132</td>\n",
              "      <td>-0.609527</td>\n",
              "      <td>-0.580298</td>\n",
              "      <td>0.523027</td>\n",
              "      <td>-0.809006</td>\n",
              "      <td>-0.996611</td>\n",
              "      <td>-0.035245</td>\n",
              "      <td>-0.501916</td>\n",
              "      <td>-0.897400</td>\n",
              "      <td>-0.793784</td>\n",
              "      <td>717.0</td>\n",
              "      <td>0</td>\n",
              "    </tr>\n",
              "  </tbody>\n",
              "</table>\n",
              "</div>"
            ],
            "text/plain": [
              "       fico    mi_pct  cnt_units  ...  loan_purpose_N  Area_Number  BinaryDefault\n",
              "0  1.815482 -2.997902   0.277646  ...       -0.493965        634.0              0\n",
              "1 -0.521829 -2.227060   3.498789  ...       -0.816696        417.0              0\n",
              "2 -0.457652 -2.095699  10.741067  ...       -0.587245        678.0              0\n",
              "3  0.636380 -0.929451   0.754667  ...       -0.666799        490.0              1\n",
              "4  0.324697 -0.815769   0.896132  ...       -0.793784        717.0              0\n",
              "\n",
              "[5 rows x 14 columns]"
            ]
          },
          "metadata": {
            "tags": []
          },
          "execution_count": 4
        }
      ]
    },
    {
      "cell_type": "code",
      "metadata": {
        "colab": {
          "base_uri": "https://localhost:8080/"
        },
        "id": "kXYUCKAJ91nc",
        "outputId": "848c7455-6d58-43b2-83c8-1af308ef53bd"
      },
      "source": [
        "data.dtypes"
      ],
      "execution_count": null,
      "outputs": [
        {
          "output_type": "execute_result",
          "data": {
            "text/plain": [
              "fico              float64\n",
              "mi_pct            float64\n",
              "cnt_units         float64\n",
              "cltv              float64\n",
              "ltv               float64\n",
              "cnt_borr          float64\n",
              "occpy_sts_S       float64\n",
              "channel_C         float64\n",
              "channel_T         float64\n",
              "prop_type_MH      float64\n",
              "prop_type_PU      float64\n",
              "loan_purpose_N    float64\n",
              "Area_Number       float64\n",
              "BinaryDefault       int64\n",
              "dtype: object"
            ]
          },
          "metadata": {
            "tags": []
          },
          "execution_count": 5
        }
      ]
    },
    {
      "cell_type": "markdown",
      "metadata": {
        "id": "YxBUs8qGh5cm"
      },
      "source": [
        "### Perfom data-cleansing:\r\n",
        "1. check Null values\r\n",
        "2. check Outliers\r\n",
        "3. check correlation \r\n"
      ]
    },
    {
      "cell_type": "markdown",
      "metadata": {
        "id": "6EY6bMBd-KQM"
      },
      "source": [
        "No Null Values"
      ]
    },
    {
      "cell_type": "code",
      "metadata": {
        "id": "r78ljsush42v",
        "colab": {
          "base_uri": "https://localhost:8080/"
        },
        "outputId": "57835fee-5844-4463-9f08-ea6bca08e1db"
      },
      "source": [
        "null_columns = data.columns[data.isnull().any()]\r\n",
        "data[null_columns].isnull().sum()"
      ],
      "execution_count": null,
      "outputs": [
        {
          "output_type": "execute_result",
          "data": {
            "text/plain": [
              "Series([], dtype: float64)"
            ]
          },
          "metadata": {
            "tags": []
          },
          "execution_count": 4
        }
      ]
    },
    {
      "cell_type": "markdown",
      "metadata": {
        "id": "KC_RFFk6-NJU"
      },
      "source": [
        "Check outliers:\r\n",
        "No Outliers "
      ]
    },
    {
      "cell_type": "code",
      "metadata": {
        "colab": {
          "base_uri": "https://localhost:8080/",
          "height": 307
        },
        "id": "iL1BXCqI-Jx8",
        "outputId": "3e33e038-e381-45e1-9db4-95abdc045ae6"
      },
      "source": [
        "data.describe()"
      ],
      "execution_count": null,
      "outputs": [
        {
          "output_type": "execute_result",
          "data": {
            "text/html": [
              "<div>\n",
              "<style scoped>\n",
              "    .dataframe tbody tr th:only-of-type {\n",
              "        vertical-align: middle;\n",
              "    }\n",
              "\n",
              "    .dataframe tbody tr th {\n",
              "        vertical-align: top;\n",
              "    }\n",
              "\n",
              "    .dataframe thead th {\n",
              "        text-align: right;\n",
              "    }\n",
              "</style>\n",
              "<table border=\"1\" class=\"dataframe\">\n",
              "  <thead>\n",
              "    <tr style=\"text-align: right;\">\n",
              "      <th></th>\n",
              "      <th>fico</th>\n",
              "      <th>mi_pct</th>\n",
              "      <th>cnt_units</th>\n",
              "      <th>cltv</th>\n",
              "      <th>ltv</th>\n",
              "      <th>cnt_borr</th>\n",
              "      <th>occpy_sts_S</th>\n",
              "      <th>channel_C</th>\n",
              "      <th>channel_T</th>\n",
              "      <th>prop_type_MH</th>\n",
              "      <th>prop_type_PU</th>\n",
              "      <th>loan_purpose_N</th>\n",
              "      <th>Area_Number</th>\n",
              "      <th>BinaryDefault</th>\n",
              "    </tr>\n",
              "  </thead>\n",
              "  <tbody>\n",
              "    <tr>\n",
              "      <th>count</th>\n",
              "      <td>793.000000</td>\n",
              "      <td>793.000000</td>\n",
              "      <td>793.000000</td>\n",
              "      <td>793.000000</td>\n",
              "      <td>793.000000</td>\n",
              "      <td>793.000000</td>\n",
              "      <td>793.000000</td>\n",
              "      <td>793.000000</td>\n",
              "      <td>793.000000</td>\n",
              "      <td>793.000000</td>\n",
              "      <td>793.000000</td>\n",
              "      <td>793.000000</td>\n",
              "      <td>793.000000</td>\n",
              "      <td>793.00000</td>\n",
              "    </tr>\n",
              "    <tr>\n",
              "      <th>mean</th>\n",
              "      <td>0.007120</td>\n",
              "      <td>0.016389</td>\n",
              "      <td>-0.017660</td>\n",
              "      <td>0.013493</td>\n",
              "      <td>0.013376</td>\n",
              "      <td>0.013832</td>\n",
              "      <td>0.004054</td>\n",
              "      <td>0.007604</td>\n",
              "      <td>0.000578</td>\n",
              "      <td>0.006095</td>\n",
              "      <td>0.008061</td>\n",
              "      <td>0.002814</td>\n",
              "      <td>400.582598</td>\n",
              "      <td>0.36570</td>\n",
              "    </tr>\n",
              "    <tr>\n",
              "      <th>std</th>\n",
              "      <td>0.984451</td>\n",
              "      <td>0.989389</td>\n",
              "      <td>0.956987</td>\n",
              "      <td>0.993834</td>\n",
              "      <td>0.994099</td>\n",
              "      <td>0.995523</td>\n",
              "      <td>1.006318</td>\n",
              "      <td>1.003580</td>\n",
              "      <td>1.008789</td>\n",
              "      <td>1.007165</td>\n",
              "      <td>1.003446</td>\n",
              "      <td>0.994436</td>\n",
              "      <td>231.753621</td>\n",
              "      <td>0.48193</td>\n",
              "    </tr>\n",
              "    <tr>\n",
              "      <th>min</th>\n",
              "      <td>-11.799082</td>\n",
              "      <td>-3.219581</td>\n",
              "      <td>-0.504865</td>\n",
              "      <td>-8.173520</td>\n",
              "      <td>-8.016964</td>\n",
              "      <td>-6.498171</td>\n",
              "      <td>-0.809006</td>\n",
              "      <td>-2.349477</td>\n",
              "      <td>-0.035245</td>\n",
              "      <td>-0.501916</td>\n",
              "      <td>-0.949227</td>\n",
              "      <td>-2.585387</td>\n",
              "      <td>0.000000</td>\n",
              "      <td>0.00000</td>\n",
              "    </tr>\n",
              "    <tr>\n",
              "      <th>25%</th>\n",
              "      <td>-0.457652</td>\n",
              "      <td>-0.492901</td>\n",
              "      <td>-0.432656</td>\n",
              "      <td>-0.213919</td>\n",
              "      <td>-0.205172</td>\n",
              "      <td>-0.585534</td>\n",
              "      <td>-0.583392</td>\n",
              "      <td>-0.717448</td>\n",
              "      <td>-0.035245</td>\n",
              "      <td>-0.501916</td>\n",
              "      <td>-0.817361</td>\n",
              "      <td>-0.698534</td>\n",
              "      <td>201.000000</td>\n",
              "      <td>0.00000</td>\n",
              "    </tr>\n",
              "    <tr>\n",
              "      <th>50%</th>\n",
              "      <td>0.120364</td>\n",
              "      <td>0.113351</td>\n",
              "      <td>-0.287316</td>\n",
              "      <td>0.211616</td>\n",
              "      <td>0.212033</td>\n",
              "      <td>-0.009781</td>\n",
              "      <td>-0.376927</td>\n",
              "      <td>0.018039</td>\n",
              "      <td>-0.035245</td>\n",
              "      <td>-0.364331</td>\n",
              "      <td>-0.358295</td>\n",
              "      <td>-0.161625</td>\n",
              "      <td>400.000000</td>\n",
              "      <td>0.00000</td>\n",
              "    </tr>\n",
              "    <tr>\n",
              "      <th>75%</th>\n",
              "      <td>0.581679</td>\n",
              "      <td>0.678230</td>\n",
              "      <td>0.003386</td>\n",
              "      <td>0.580902</td>\n",
              "      <td>0.586892</td>\n",
              "      <td>0.646004</td>\n",
              "      <td>0.143035</td>\n",
              "      <td>0.640190</td>\n",
              "      <td>-0.035245</td>\n",
              "      <td>0.117718</td>\n",
              "      <td>0.614008</td>\n",
              "      <td>0.486337</td>\n",
              "      <td>600.000000</td>\n",
              "      <td>1.00000</td>\n",
              "    </tr>\n",
              "    <tr>\n",
              "      <th>max</th>\n",
              "      <td>2.824215</td>\n",
              "      <td>4.256191</td>\n",
              "      <td>10.741067</td>\n",
              "      <td>2.212681</td>\n",
              "      <td>2.203769</td>\n",
              "      <td>6.541198</td>\n",
              "      <td>5.973082</td>\n",
              "      <td>4.002008</td>\n",
              "      <td>28.372522</td>\n",
              "      <td>10.899360</td>\n",
              "      <td>4.007486</td>\n",
              "      <td>4.867681</td>\n",
              "      <td>805.000000</td>\n",
              "      <td>1.00000</td>\n",
              "    </tr>\n",
              "  </tbody>\n",
              "</table>\n",
              "</div>"
            ],
            "text/plain": [
              "             fico      mi_pct  ...  Area_Number  BinaryDefault\n",
              "count  793.000000  793.000000  ...   793.000000      793.00000\n",
              "mean     0.007120    0.016389  ...   400.582598        0.36570\n",
              "std      0.984451    0.989389  ...   231.753621        0.48193\n",
              "min    -11.799082   -3.219581  ...     0.000000        0.00000\n",
              "25%     -0.457652   -0.492901  ...   201.000000        0.00000\n",
              "50%      0.120364    0.113351  ...   400.000000        0.00000\n",
              "75%      0.581679    0.678230  ...   600.000000        1.00000\n",
              "max      2.824215    4.256191  ...   805.000000        1.00000\n",
              "\n",
              "[8 rows x 14 columns]"
            ]
          },
          "metadata": {
            "tags": []
          },
          "execution_count": 7
        }
      ]
    },
    {
      "cell_type": "code",
      "metadata": {
        "colab": {
          "base_uri": "https://localhost:8080/",
          "height": 622
        },
        "id": "QKsBmT8fNuWL",
        "outputId": "9788dd24-013d-40c6-9a05-c367c7086534"
      },
      "source": [
        "# Compute the correlation matrix\r\n",
        "corr = data.corr()\r\n",
        "corr = np.abs(corr)\r\n",
        "\r\n",
        "# Generate a mask for the upper triangle\r\n",
        "mask = np.triu(np.ones_like(corr, dtype=bool))\r\n",
        "\r\n",
        "# Set up the matplotlib figure\r\n",
        "f, ax = plt.subplots(figsize=(11, 9))\r\n",
        "\r\n",
        "# Generate a custom diverging colormap\r\n",
        "cmap = sns.diverging_palette(230, 20, as_cmap=True)\r\n",
        "\r\n",
        "# Draw the heatmap with the mask and correct aspect ratio\r\n",
        "sns.heatmap(corr, mask=mask, cmap=cmap, vmax=1, center=0,\r\n",
        "            square=True, linewidths=.5, cbar_kws={\"shrink\": .5})"
      ],
      "execution_count": null,
      "outputs": [
        {
          "output_type": "execute_result",
          "data": {
            "text/plain": [
              "<matplotlib.axes._subplots.AxesSubplot at 0x7fd942de9a90>"
            ]
          },
          "metadata": {
            "tags": []
          },
          "execution_count": 8
        },
        {
          "output_type": "display_data",
          "data": {
            "image/png": "[encoded data removed]",
            "text/plain": [
              "<Figure size 792x648 with 2 Axes>"
            ]
          },
          "metadata": {
            "tags": [],
            "needs_background": "light"
          }
        }
      ]
    },
    {
      "cell_type": "markdown",
      "metadata": {
        "id": "K5uDoWvPStJ1"
      },
      "source": [
        "Since we have highly correlation between variables ltv and cltv, and \r\n",
        "correlation between mi_pct and cltv/ltv, therefore, we drop\r\n",
        "ltv and mi_pct"
      ]
    },
    {
      "cell_type": "code",
      "metadata": {
        "id": "IFh5gVTtSsfc"
      },
      "source": [
        "data = data.drop(columns = [\"ltv\",\"mi_pct\"])"
      ],
      "execution_count": null,
      "outputs": []
    },
    {
      "cell_type": "code",
      "metadata": {
        "id": "WZAtFVOzxQod"
      },
      "source": [
        "#data = data.drop(columns = [\"Area_Number\"])"
      ],
      "execution_count": null,
      "outputs": []
    },
    {
      "cell_type": "markdown",
      "metadata": {
        "id": "2qTWm7POtRKm"
      },
      "source": [
        "# Train and Test by pictures "
      ]
    },
    {
      "cell_type": "code",
      "metadata": {
        "id": "fmJDlPQ2tVA9"
      },
      "source": [
        "\r\n",
        "idx = pd.read_excel(\"/content/drive/My Drive/Index.xlsx\")"
      ],
      "execution_count": null,
      "outputs": []
    },
    {
      "cell_type": "code",
      "metadata": {
        "id": "Orrm3f8ZijkY"
      },
      "source": [
        "idx_list = idx[\"Index\"].tolist()"
      ],
      "execution_count": null,
      "outputs": []
    },
    {
      "cell_type": "code",
      "metadata": {
        "colab": {
          "base_uri": "https://localhost:8080/"
        },
        "id": "38SHIU1MjfbX",
        "outputId": "6242dbab-539d-4535-cf26-0f88971b2a88"
      },
      "source": [
        "range(len(idx_list))"
      ],
      "execution_count": null,
      "outputs": [
        {
          "output_type": "execute_result",
          "data": {
            "text/plain": [
              "range(0, 238)"
            ]
          },
          "metadata": {
            "tags": []
          },
          "execution_count": 8
        }
      ]
    },
    {
      "cell_type": "code",
      "metadata": {
        "id": "bIG7o9CJdugd"
      },
      "source": [
        "data[\"Indicator\"] = None"
      ],
      "execution_count": null,
      "outputs": []
    },
    {
      "cell_type": "code",
      "metadata": {
        "id": "U6KDOPIB1dmG",
        "colab": {
          "base_uri": "https://localhost:8080/"
        },
        "outputId": "857aac9b-adf6-4c6f-9ef2-b82109a67d1f"
      },
      "source": [
        "# Create an indicator column\r\n",
        "for i in range(len(data)):\r\n",
        "  if data[\"Area_Number\"][i] in idx_list:\r\n",
        "    data[\"Indicator\"][i] = \"Y\" # Test sample\r\n",
        "  else:\r\n",
        "    data[\"Indicator\"][i] = \"N\""
      ],
      "execution_count": null,
      "outputs": [
        {
          "output_type": "stream",
          "text": [
            "/usr/local/lib/python3.6/dist-packages/ipykernel_launcher.py:4: SettingWithCopyWarning: \n",
            "A value is trying to be set on a copy of a slice from a DataFrame\n",
            "\n",
            "See the caveats in the documentation: https://pandas.pydata.org/pandas-docs/stable/user_guide/indexing.html#returning-a-view-versus-a-copy\n",
            "  after removing the cwd from sys.path.\n",
            "/usr/local/lib/python3.6/dist-packages/ipykernel_launcher.py:6: SettingWithCopyWarning: \n",
            "A value is trying to be set on a copy of a slice from a DataFrame\n",
            "\n",
            "See the caveats in the documentation: https://pandas.pydata.org/pandas-docs/stable/user_guide/indexing.html#returning-a-view-versus-a-copy\n",
            "  \n"
          ],
          "name": "stderr"
        }
      ]
    },
    {
      "cell_type": "code",
      "metadata": {
        "colab": {
          "base_uri": "https://localhost:8080/"
        },
        "id": "CXHRTCTWo7o4",
        "outputId": "9ff9efa7-9f6a-41e7-d6fd-ea4ca5a74414"
      },
      "source": [
        "print('Size of the indicator: ', data[\"Indicator\"].shape)"
      ],
      "execution_count": null,
      "outputs": [
        {
          "output_type": "stream",
          "text": [
            "Size of the indicator:  (793,)\n"
          ],
          "name": "stdout"
        }
      ]
    },
    {
      "cell_type": "code",
      "metadata": {
        "id": "VqqgzDSMkj-f"
      },
      "source": [
        "test_data = data.iloc[np.where(data[\"Indicator\"]==\"Y\")[0],:]\r\n",
        "train_data = data.iloc[np.where(data[\"Indicator\"]==\"N\")[0],:]"
      ],
      "execution_count": null,
      "outputs": []
    },
    {
      "cell_type": "code",
      "metadata": {
        "colab": {
          "base_uri": "https://localhost:8080/"
        },
        "id": "ts0chBgMnvx-",
        "outputId": "2138208a-acf2-42ac-e84c-736b6c6533fd"
      },
      "source": [
        "print('Size of the training set: ', train_data.shape)\r\n",
        "print('Size of the test set: ', test_data.shape)"
      ],
      "execution_count": null,
      "outputs": [
        {
          "output_type": "stream",
          "text": [
            "Size of the training set:  (555, 13)\n",
            "Size of the test set:  (238, 13)\n"
          ],
          "name": "stdout"
        }
      ]
    },
    {
      "cell_type": "code",
      "metadata": {
        "id": "qJfTzXMTt4Ye"
      },
      "source": [
        "# Drop Area Number \r\n",
        "train_data = train_data.drop(columns = [\"Area_Number\"])\r\n",
        "test_data = test_data.drop(columns = [\"Area_Number\"])"
      ],
      "execution_count": null,
      "outputs": []
    },
    {
      "cell_type": "code",
      "metadata": {
        "id": "cV82HOJBuc1K"
      },
      "source": [
        "# Drop Indicator\r\n",
        "train_data = train_data.drop(columns = [\"Indicator\"])\r\n",
        "test_data = test_data.drop(columns = [\"Indicator\"])"
      ],
      "execution_count": null,
      "outputs": []
    },
    {
      "cell_type": "markdown",
      "metadata": {
        "id": "thjSWnl1-7Js"
      },
      "source": [
        "## Normalized the data"
      ]
    },
    {
      "cell_type": "markdown",
      "metadata": {
        "id": "lPWD_5gOBMaE"
      },
      "source": [
        "The data is normalized already! \r\n"
      ]
    },
    {
      "cell_type": "code",
      "metadata": {
        "colab": {
          "base_uri": "https://localhost:8080/"
        },
        "id": "mRI4h5qJuvCT",
        "outputId": "8b557253-4637-4f5b-c84a-2c0190ba5112"
      },
      "source": [
        "!pip install scorecardpy"
      ],
      "execution_count": null,
      "outputs": [
        {
          "output_type": "stream",
          "text": [
            "Collecting scorecardpy\n",
            "\u001b[?25l  Downloading https://files.pythonhosted.org/packages/3e/18/8e3f675b9baaf027e84cb84f9bc3bb57381ab3d0b5241e089653d5d92784/scorecardpy-0.1.9.2.tar.gz (55kB)\n",
            "\r\u001b[K     |██████                          | 10kB 17.0MB/s eta 0:00:01\r\u001b[K     |███████████▉                    | 20kB 14.2MB/s eta 0:00:01\r\u001b[K     |█████████████████▊              | 30kB 10.3MB/s eta 0:00:01\r\u001b[K     |███████████████████████▋        | 40kB 8.5MB/s eta 0:00:01\r\u001b[K     |█████████████████████████████▌  | 51kB 4.4MB/s eta 0:00:01\r\u001b[K     |████████████████████████████████| 61kB 3.1MB/s \n",
            "\u001b[?25hRequirement already satisfied: numpy in /usr/local/lib/python3.6/dist-packages (from scorecardpy) (1.19.4)\n",
            "Requirement already satisfied: pandas>=0.25.0 in /usr/local/lib/python3.6/dist-packages (from scorecardpy) (1.1.5)\n",
            "Requirement already satisfied: matplotlib in /usr/local/lib/python3.6/dist-packages (from scorecardpy) (3.2.2)\n",
            "Requirement already satisfied: scikit-learn>=0.19.1 in /usr/local/lib/python3.6/dist-packages (from scorecardpy) (0.22.2.post1)\n",
            "Requirement already satisfied: pytz>=2017.2 in /usr/local/lib/python3.6/dist-packages (from pandas>=0.25.0->scorecardpy) (2018.9)\n",
            "Requirement already satisfied: python-dateutil>=2.7.3 in /usr/local/lib/python3.6/dist-packages (from pandas>=0.25.0->scorecardpy) (2.8.1)\n",
            "Requirement already satisfied: pyparsing!=2.0.4,!=2.1.2,!=2.1.6,>=2.0.1 in /usr/local/lib/python3.6/dist-packages (from matplotlib->scorecardpy) (2.4.7)\n",
            "Requirement already satisfied: kiwisolver>=1.0.1 in /usr/local/lib/python3.6/dist-packages (from matplotlib->scorecardpy) (1.3.1)\n",
            "Requirement already satisfied: cycler>=0.10 in /usr/local/lib/python3.6/dist-packages (from matplotlib->scorecardpy) (0.10.0)\n",
            "Requirement already satisfied: scipy>=0.17.0 in /usr/local/lib/python3.6/dist-packages (from scikit-learn>=0.19.1->scorecardpy) (1.4.1)\n",
            "Requirement already satisfied: joblib>=0.11 in /usr/local/lib/python3.6/dist-packages (from scikit-learn>=0.19.1->scorecardpy) (1.0.0)\n",
            "Requirement already satisfied: six>=1.5 in /usr/local/lib/python3.6/dist-packages (from python-dateutil>=2.7.3->pandas>=0.25.0->scorecardpy) (1.15.0)\n",
            "Building wheels for collected packages: scorecardpy\n",
            "  Building wheel for scorecardpy (setup.py) ... \u001b[?25l\u001b[?25hdone\n",
            "  Created wheel for scorecardpy: filename=scorecardpy-0.1.9.2-cp36-none-any.whl size=57827 sha256=9421d8bef6a1f36ae5e3213df8854aeac75fa85c41c28497dda8b9ce9cbb3b25\n",
            "  Stored in directory: /root/.cache/pip/wheels/1d/66/14/23aeb4e1128278f5880580e2fdd10e956de112a5d56a3a043e\n",
            "Successfully built scorecardpy\n",
            "Installing collected packages: scorecardpy\n",
            "Successfully installed scorecardpy-0.1.9.2\n"
          ],
          "name": "stdout"
        }
      ]
    },
    {
      "cell_type": "code",
      "metadata": {
        "id": "zOe13Lj_B8lT"
      },
      "source": [
        "import scorecardpy as sc"
      ],
      "execution_count": null,
      "outputs": []
    },
    {
      "cell_type": "markdown",
      "metadata": {
        "id": "pxwisuPSuScJ"
      },
      "source": [
        "The trainning set has been normalized!"
      ]
    },
    {
      "cell_type": "code",
      "metadata": {
        "colab": {
          "base_uri": "https://localhost:8080/",
          "height": 307
        },
        "id": "QHC4nQsGCLRT",
        "outputId": "00f0a8c0-9b80-4ce2-ddda-9dec4f416b8d"
      },
      "source": [
        "train_data.describe()"
      ],
      "execution_count": null,
      "outputs": [
        {
          "output_type": "execute_result",
          "data": {
            "text/html": [
              "<div>\n",
              "<style scoped>\n",
              "    .dataframe tbody tr th:only-of-type {\n",
              "        vertical-align: middle;\n",
              "    }\n",
              "\n",
              "    .dataframe tbody tr th {\n",
              "        vertical-align: top;\n",
              "    }\n",
              "\n",
              "    .dataframe thead th {\n",
              "        text-align: right;\n",
              "    }\n",
              "</style>\n",
              "<table border=\"1\" class=\"dataframe\">\n",
              "  <thead>\n",
              "    <tr style=\"text-align: right;\">\n",
              "      <th></th>\n",
              "      <th>fico</th>\n",
              "      <th>cnt_units</th>\n",
              "      <th>cltv</th>\n",
              "      <th>cnt_borr</th>\n",
              "      <th>occpy_sts_S</th>\n",
              "      <th>channel_C</th>\n",
              "      <th>channel_T</th>\n",
              "      <th>prop_type_MH</th>\n",
              "      <th>prop_type_PU</th>\n",
              "      <th>loan_purpose_N</th>\n",
              "      <th>BinaryDefault</th>\n",
              "    </tr>\n",
              "  </thead>\n",
              "  <tbody>\n",
              "    <tr>\n",
              "      <th>count</th>\n",
              "      <td>555.000000</td>\n",
              "      <td>555.000000</td>\n",
              "      <td>555.000000</td>\n",
              "      <td>555.000000</td>\n",
              "      <td>555.000000</td>\n",
              "      <td>555.000000</td>\n",
              "      <td>555.000000</td>\n",
              "      <td>555.000000</td>\n",
              "      <td>555.000000</td>\n",
              "      <td>555.000000</td>\n",
              "      <td>555.000000</td>\n",
              "    </tr>\n",
              "    <tr>\n",
              "      <th>mean</th>\n",
              "      <td>0.041099</td>\n",
              "      <td>0.019765</td>\n",
              "      <td>-0.010982</td>\n",
              "      <td>0.015721</td>\n",
              "      <td>-0.032248</td>\n",
              "      <td>0.001973</td>\n",
              "      <td>0.015940</td>\n",
              "      <td>-0.008626</td>\n",
              "      <td>-0.001787</td>\n",
              "      <td>-0.020519</td>\n",
              "      <td>0.365766</td>\n",
              "    </tr>\n",
              "    <tr>\n",
              "      <th>std</th>\n",
              "      <td>0.847324</td>\n",
              "      <td>1.052906</td>\n",
              "      <td>1.050163</td>\n",
              "      <td>0.960170</td>\n",
              "      <td>0.967640</td>\n",
              "      <td>0.974611</td>\n",
              "      <td>1.205843</td>\n",
              "      <td>0.962021</td>\n",
              "      <td>0.979634</td>\n",
              "      <td>0.959883</td>\n",
              "      <td>0.482079</td>\n",
              "    </tr>\n",
              "    <tr>\n",
              "      <th>min</th>\n",
              "      <td>-5.894282</td>\n",
              "      <td>-0.504865</td>\n",
              "      <td>-8.173520</td>\n",
              "      <td>-3.608365</td>\n",
              "      <td>-0.809006</td>\n",
              "      <td>-2.349477</td>\n",
              "      <td>-0.035245</td>\n",
              "      <td>-0.501916</td>\n",
              "      <td>-0.949227</td>\n",
              "      <td>-2.585387</td>\n",
              "      <td>0.000000</td>\n",
              "    </tr>\n",
              "    <tr>\n",
              "      <th>25%</th>\n",
              "      <td>-0.434421</td>\n",
              "      <td>-0.423447</td>\n",
              "      <td>-0.218351</td>\n",
              "      <td>-0.589543</td>\n",
              "      <td>-0.590229</td>\n",
              "      <td>-0.686945</td>\n",
              "      <td>-0.035245</td>\n",
              "      <td>-0.501916</td>\n",
              "      <td>-0.808419</td>\n",
              "      <td>-0.707184</td>\n",
              "      <td>0.000000</td>\n",
              "    </tr>\n",
              "    <tr>\n",
              "      <th>50%</th>\n",
              "      <td>0.118575</td>\n",
              "      <td>-0.272483</td>\n",
              "      <td>0.204213</td>\n",
              "      <td>-0.006408</td>\n",
              "      <td>-0.388444</td>\n",
              "      <td>-0.017900</td>\n",
              "      <td>-0.035245</td>\n",
              "      <td>-0.368412</td>\n",
              "      <td>-0.358295</td>\n",
              "      <td>-0.177082</td>\n",
              "      <td>0.000000</td>\n",
              "    </tr>\n",
              "    <tr>\n",
              "      <th>75%</th>\n",
              "      <td>0.566657</td>\n",
              "      <td>0.031469</td>\n",
              "      <td>0.586962</td>\n",
              "      <td>0.634893</td>\n",
              "      <td>0.104072</td>\n",
              "      <td>0.610742</td>\n",
              "      <td>-0.035245</td>\n",
              "      <td>0.116043</td>\n",
              "      <td>0.620824</td>\n",
              "      <td>0.448286</td>\n",
              "      <td>1.000000</td>\n",
              "    </tr>\n",
              "    <tr>\n",
              "      <th>max</th>\n",
              "      <td>2.824215</td>\n",
              "      <td>10.741067</td>\n",
              "      <td>2.212681</td>\n",
              "      <td>6.541198</td>\n",
              "      <td>5.410994</td>\n",
              "      <td>4.002008</td>\n",
              "      <td>28.372522</td>\n",
              "      <td>10.186780</td>\n",
              "      <td>4.007486</td>\n",
              "      <td>4.053841</td>\n",
              "      <td>1.000000</td>\n",
              "    </tr>\n",
              "  </tbody>\n",
              "</table>\n",
              "</div>"
            ],
            "text/plain": [
              "             fico   cnt_units  ...  loan_purpose_N  BinaryDefault\n",
              "count  555.000000  555.000000  ...      555.000000     555.000000\n",
              "mean     0.041099    0.019765  ...       -0.020519       0.365766\n",
              "std      0.847324    1.052906  ...        0.959883       0.482079\n",
              "min     -5.894282   -0.504865  ...       -2.585387       0.000000\n",
              "25%     -0.434421   -0.423447  ...       -0.707184       0.000000\n",
              "50%      0.118575   -0.272483  ...       -0.177082       0.000000\n",
              "75%      0.566657    0.031469  ...        0.448286       1.000000\n",
              "max      2.824215   10.741067  ...        4.053841       1.000000\n",
              "\n",
              "[8 rows x 11 columns]"
            ]
          },
          "metadata": {
            "tags": []
          },
          "execution_count": 156
        }
      ]
    },
    {
      "cell_type": "code",
      "metadata": {
        "colab": {
          "base_uri": "https://localhost:8080/",
          "height": 217
        },
        "id": "xjFMfCSuUxDV",
        "outputId": "076ad56b-36c7-47ec-88c8-476281961814"
      },
      "source": [
        "train_data.head()"
      ],
      "execution_count": null,
      "outputs": [
        {
          "output_type": "execute_result",
          "data": {
            "text/html": [
              "<div>\n",
              "<style scoped>\n",
              "    .dataframe tbody tr th:only-of-type {\n",
              "        vertical-align: middle;\n",
              "    }\n",
              "\n",
              "    .dataframe tbody tr th {\n",
              "        vertical-align: top;\n",
              "    }\n",
              "\n",
              "    .dataframe thead th {\n",
              "        text-align: right;\n",
              "    }\n",
              "</style>\n",
              "<table border=\"1\" class=\"dataframe\">\n",
              "  <thead>\n",
              "    <tr style=\"text-align: right;\">\n",
              "      <th></th>\n",
              "      <th>fico</th>\n",
              "      <th>cnt_units</th>\n",
              "      <th>cltv</th>\n",
              "      <th>cnt_borr</th>\n",
              "      <th>occpy_sts_S</th>\n",
              "      <th>channel_C</th>\n",
              "      <th>channel_T</th>\n",
              "      <th>prop_type_MH</th>\n",
              "      <th>prop_type_PU</th>\n",
              "      <th>loan_purpose_N</th>\n",
              "      <th>BinaryDefault</th>\n",
              "    </tr>\n",
              "  </thead>\n",
              "  <tbody>\n",
              "    <tr>\n",
              "      <th>1</th>\n",
              "      <td>-0.521829</td>\n",
              "      <td>3.498789</td>\n",
              "      <td>-1.810005</td>\n",
              "      <td>-0.171886</td>\n",
              "      <td>-0.751896</td>\n",
              "      <td>-0.865516</td>\n",
              "      <td>-0.035245</td>\n",
              "      <td>-0.501916</td>\n",
              "      <td>-0.199528</td>\n",
              "      <td>-0.816696</td>\n",
              "      <td>0</td>\n",
              "    </tr>\n",
              "    <tr>\n",
              "      <th>2</th>\n",
              "      <td>-0.457652</td>\n",
              "      <td>10.741067</td>\n",
              "      <td>-1.211170</td>\n",
              "      <td>-1.394290</td>\n",
              "      <td>-0.712228</td>\n",
              "      <td>0.155562</td>\n",
              "      <td>-0.035245</td>\n",
              "      <td>-0.501916</td>\n",
              "      <td>-0.934777</td>\n",
              "      <td>-0.587245</td>\n",
              "      <td>0</td>\n",
              "    </tr>\n",
              "    <tr>\n",
              "      <th>3</th>\n",
              "      <td>0.636380</td>\n",
              "      <td>0.754667</td>\n",
              "      <td>-0.616046</td>\n",
              "      <td>0.626942</td>\n",
              "      <td>-0.663063</td>\n",
              "      <td>-0.827111</td>\n",
              "      <td>-0.035245</td>\n",
              "      <td>-0.501916</td>\n",
              "      <td>-0.676832</td>\n",
              "      <td>-0.666799</td>\n",
              "      <td>1</td>\n",
              "    </tr>\n",
              "    <tr>\n",
              "      <th>4</th>\n",
              "      <td>0.324697</td>\n",
              "      <td>0.896132</td>\n",
              "      <td>-0.609527</td>\n",
              "      <td>0.523027</td>\n",
              "      <td>-0.809006</td>\n",
              "      <td>-0.996611</td>\n",
              "      <td>-0.035245</td>\n",
              "      <td>-0.501916</td>\n",
              "      <td>-0.897400</td>\n",
              "      <td>-0.793784</td>\n",
              "      <td>0</td>\n",
              "    </tr>\n",
              "    <tr>\n",
              "      <th>5</th>\n",
              "      <td>0.286753</td>\n",
              "      <td>1.673203</td>\n",
              "      <td>-0.984939</td>\n",
              "      <td>0.523027</td>\n",
              "      <td>-0.809006</td>\n",
              "      <td>-0.855187</td>\n",
              "      <td>-0.035245</td>\n",
              "      <td>-0.501916</td>\n",
              "      <td>-0.949227</td>\n",
              "      <td>-0.490590</td>\n",
              "      <td>1</td>\n",
              "    </tr>\n",
              "  </tbody>\n",
              "</table>\n",
              "</div>"
            ],
            "text/plain": [
              "       fico  cnt_units      cltv  ...  prop_type_PU  loan_purpose_N  BinaryDefault\n",
              "1 -0.521829   3.498789 -1.810005  ...     -0.199528       -0.816696              0\n",
              "2 -0.457652  10.741067 -1.211170  ...     -0.934777       -0.587245              0\n",
              "3  0.636380   0.754667 -0.616046  ...     -0.676832       -0.666799              1\n",
              "4  0.324697   0.896132 -0.609527  ...     -0.897400       -0.793784              0\n",
              "5  0.286753   1.673203 -0.984939  ...     -0.949227       -0.490590              1\n",
              "\n",
              "[5 rows x 11 columns]"
            ]
          },
          "metadata": {
            "tags": []
          },
          "execution_count": 157
        }
      ]
    },
    {
      "cell_type": "code",
      "metadata": {
        "id": "JNV-EUEhMGDc"
      },
      "source": [
        "from sklearn.linear_model import LogisticRegressionCV\r\n",
        "from sklearn.linear_model import LogisticRegression"
      ],
      "execution_count": null,
      "outputs": []
    },
    {
      "cell_type": "code",
      "metadata": {
        "id": "m_xSSCkYOcFN"
      },
      "source": [
        "data_logreg = LogisticRegression(penalty='l1', # Type of penalization l1 = lasso, l2 = ridge\r\n",
        "                             tol=0.00001, # Tolerance for parameters\r\n",
        "                             C = 0.1,#obtained from CV\r\n",
        "                             fit_intercept=True, # Use constant?\r\n",
        "                             class_weight='balanced', # Weights, see below\r\n",
        "                             random_state=250747350, # Random seed\r\n",
        "                            max_iter=500, # Maximum iterations\r\n",
        "                           verbose=1, # Show process. 1 is yes.\r\n",
        "                           solver = 'saga', # How to optimize.\r\n",
        "                           n_jobs = 2      # Processes to use. Set to number of physical cores. \r\n",
        "                                   )"
      ],
      "execution_count": null,
      "outputs": []
    },
    {
      "cell_type": "code",
      "metadata": {
        "id": "fvj0MsGmOpHE"
      },
      "source": [
        "data_logregCV = LogisticRegressionCV(penalty='l1', # Type of penalization l1 = lasso, l2 = ridge\r\n",
        "                            Cs = [1e-3,1e-2, 1e-1,1,\r\n",
        "                                10,100,1000],    \r\n",
        "                            tol=0.0001, # Tolerance for parameters\r\n",
        "                            cv = 3,     # How many CV folds to try. 3 or 5 should be enough.\r\n",
        "                            fit_intercept=True, # Use constant\r\n",
        "                            class_weight= \"balanced\", # Weights\r\n",
        "                            random_state= 250747350, # ID\r\n",
        "                            max_iter= 1000, # Maximum iterations\r\n",
        "                            verbose=1, # Show process. 1 is yes.\r\n",
        "                            solver = 'saga', # How to optimize.\r\n",
        "                            n_jobs = 2,      # Processes to use. Set to number of physical cores. \r\n",
        "                            refit = True  )"
      ],
      "execution_count": null,
      "outputs": []
    },
    {
      "cell_type": "code",
      "metadata": {
        "colab": {
          "base_uri": "https://localhost:8080/"
        },
        "id": "S07sqGkIQCVc",
        "outputId": "b933617f-9397-48f5-c25f-3cc4d0c3baba"
      },
      "source": [
        "train_CV = data_logregCV.fit(X = train_data.iloc[:, : -1], # All rows and from the second var to end\r\n",
        "                    y = train_data['BinaryDefault'] # The target\r\n",
        "                   )"
      ],
      "execution_count": null,
      "outputs": [
        {
          "output_type": "stream",
          "text": [
            "[Parallel(n_jobs=2)]: Using backend ThreadingBackend with 2 concurrent workers.\n"
          ],
          "name": "stderr"
        },
        {
          "output_type": "stream",
          "text": [
            "convergence after 1 epochs took 0 secondsconvergence after 1 epochs took 0 seconds\n",
            "convergence after 1 epochs took 0 seconds\n",
            "\n",
            "convergence after 1 epochs took 0 seconds\n",
            "convergence after 46 epochs took 0 seconds\n",
            "convergence after 46 epochs took 0 seconds\n",
            "convergence after 93 epochs took 0 seconds\n",
            "convergence after 60 epochs took 0 seconds\n",
            "convergence after 26 epochs took 0 seconds\n",
            "convergence after 5 epochs took 0 seconds\n",
            "convergence after 1 epochs took 0 seconds\n",
            "convergence after 1 epochs took 0 seconds\n",
            "convergence after 39 epochs took 0 seconds\n",
            "convergence after 124 epochs took 0 seconds\n",
            "convergence after 127 epochs took 0 seconds\n",
            "convergence after 242 epochs took 0 seconds\n",
            "convergence after 255 epochs took 0 seconds\n",
            "convergence after 497 epochs took 0 seconds\n",
            "convergence after 456 epochs took 0 seconds\n",
            "convergence after 211 epochs took 0 seconds\n",
            "convergence after 246 epochs took 0 seconds\n"
          ],
          "name": "stdout"
        },
        {
          "output_type": "stream",
          "text": [
            "[Parallel(n_jobs=2)]: Done   3 out of   3 | elapsed:    0.4s finished\n"
          ],
          "name": "stderr"
        }
      ]
    },
    {
      "cell_type": "code",
      "metadata": {
        "colab": {
          "base_uri": "https://localhost:8080/"
        },
        "id": "-dDD_oKVdVZt",
        "outputId": "72efcf25-b7be-47f3-ac43-3d13fdd2eff6"
      },
      "source": [
        "data_logregCV.intercept_ # close to 0"
      ],
      "execution_count": null,
      "outputs": [
        {
          "output_type": "execute_result",
          "data": {
            "text/plain": [
              "array([-0.00740037])"
            ]
          },
          "metadata": {
            "tags": []
          },
          "execution_count": 23
        }
      ]
    },
    {
      "cell_type": "code",
      "metadata": {
        "colab": {
          "base_uri": "https://localhost:8080/"
        },
        "id": "rD2HdoSbdv-8",
        "outputId": "fc40c8b6-c83c-41a5-8d3d-5abfc01788db"
      },
      "source": [
        "data_logregCV.C_"
      ],
      "execution_count": null,
      "outputs": [
        {
          "output_type": "execute_result",
          "data": {
            "text/plain": [
              "array([1.])"
            ]
          },
          "metadata": {
            "tags": []
          },
          "execution_count": 24
        }
      ]
    },
    {
      "cell_type": "code",
      "metadata": {
        "colab": {
          "base_uri": "https://localhost:8080/",
          "height": 347
        },
        "id": "yEaLwOfUnlPP",
        "outputId": "d5f45e0d-a26b-4ee3-c63b-a3c6f7ce2bda"
      },
      "source": [
        "coef_df = pd.concat([pd.DataFrame({'column': train_data.columns[:-1]}), \r\n",
        "                    pd.DataFrame(np.transpose(train_CV.coef_))],\r\n",
        "                    axis = 1\r\n",
        "                   )\r\n",
        "\r\n",
        "coef_df"
      ],
      "execution_count": null,
      "outputs": [
        {
          "output_type": "execute_result",
          "data": {
            "text/html": [
              "<div>\n",
              "<style scoped>\n",
              "    .dataframe tbody tr th:only-of-type {\n",
              "        vertical-align: middle;\n",
              "    }\n",
              "\n",
              "    .dataframe tbody tr th {\n",
              "        vertical-align: top;\n",
              "    }\n",
              "\n",
              "    .dataframe thead th {\n",
              "        text-align: right;\n",
              "    }\n",
              "</style>\n",
              "<table border=\"1\" class=\"dataframe\">\n",
              "  <thead>\n",
              "    <tr style=\"text-align: right;\">\n",
              "      <th></th>\n",
              "      <th>column</th>\n",
              "      <th>0</th>\n",
              "    </tr>\n",
              "  </thead>\n",
              "  <tbody>\n",
              "    <tr>\n",
              "      <th>0</th>\n",
              "      <td>fico</td>\n",
              "      <td>-0.121986</td>\n",
              "    </tr>\n",
              "    <tr>\n",
              "      <th>1</th>\n",
              "      <td>cnt_units</td>\n",
              "      <td>0.158727</td>\n",
              "    </tr>\n",
              "    <tr>\n",
              "      <th>2</th>\n",
              "      <td>cltv</td>\n",
              "      <td>0.120695</td>\n",
              "    </tr>\n",
              "    <tr>\n",
              "      <th>3</th>\n",
              "      <td>cnt_borr</td>\n",
              "      <td>0.060100</td>\n",
              "    </tr>\n",
              "    <tr>\n",
              "      <th>4</th>\n",
              "      <td>occpy_sts_S</td>\n",
              "      <td>0.435322</td>\n",
              "    </tr>\n",
              "    <tr>\n",
              "      <th>5</th>\n",
              "      <td>channel_C</td>\n",
              "      <td>-0.190112</td>\n",
              "    </tr>\n",
              "    <tr>\n",
              "      <th>6</th>\n",
              "      <td>channel_T</td>\n",
              "      <td>0.116792</td>\n",
              "    </tr>\n",
              "    <tr>\n",
              "      <th>7</th>\n",
              "      <td>prop_type_MH</td>\n",
              "      <td>0.028479</td>\n",
              "    </tr>\n",
              "    <tr>\n",
              "      <th>8</th>\n",
              "      <td>prop_type_PU</td>\n",
              "      <td>-0.144096</td>\n",
              "    </tr>\n",
              "    <tr>\n",
              "      <th>9</th>\n",
              "      <td>loan_purpose_N</td>\n",
              "      <td>0.067586</td>\n",
              "    </tr>\n",
              "  </tbody>\n",
              "</table>\n",
              "</div>"
            ],
            "text/plain": [
              "           column         0\n",
              "0            fico -0.121986\n",
              "1       cnt_units  0.158727\n",
              "2            cltv  0.120695\n",
              "3        cnt_borr  0.060100\n",
              "4     occpy_sts_S  0.435322\n",
              "5       channel_C -0.190112\n",
              "6       channel_T  0.116792\n",
              "7    prop_type_MH  0.028479\n",
              "8    prop_type_PU -0.144096\n",
              "9  loan_purpose_N  0.067586"
            ]
          },
          "metadata": {
            "tags": []
          },
          "execution_count": 26
        }
      ]
    },
    {
      "cell_type": "code",
      "metadata": {
        "colab": {
          "base_uri": "https://localhost:8080/"
        },
        "id": "AQ6zxo88eFY8",
        "outputId": "ef17b77c-215b-4b26-d36e-924070ec8e48"
      },
      "source": [
        "fit_train = data_logreg.fit(X = train_data.iloc[:, : -1], # All rows and from the second var to end\r\n",
        "                    y = train_data['BinaryDefault'] # The target\r\n",
        "                   )"
      ],
      "execution_count": null,
      "outputs": [
        {
          "output_type": "stream",
          "text": [
            "convergence after 50 epochs took 0 seconds\n"
          ],
          "name": "stdout"
        },
        {
          "output_type": "stream",
          "text": [
            "[Parallel(n_jobs=2)]: Using backend ThreadingBackend with 2 concurrent workers.\n",
            "[Parallel(n_jobs=2)]: Done   1 out of   1 | elapsed:    0.0s finished\n"
          ],
          "name": "stderr"
        }
      ]
    },
    {
      "cell_type": "code",
      "metadata": {
        "colab": {
          "base_uri": "https://localhost:8080/",
          "height": 347
        },
        "id": "oyWB8WQtpDM-",
        "outputId": "a5d6e2c3-e319-4ac9-8c00-c4227ec64633"
      },
      "source": [
        "sc.iv(train_data, 'BinaryDefault')"
      ],
      "execution_count": null,
      "outputs": [
        {
          "output_type": "execute_result",
          "data": {
            "text/html": [
              "<div>\n",
              "<style scoped>\n",
              "    .dataframe tbody tr th:only-of-type {\n",
              "        vertical-align: middle;\n",
              "    }\n",
              "\n",
              "    .dataframe tbody tr th {\n",
              "        vertical-align: top;\n",
              "    }\n",
              "\n",
              "    .dataframe thead th {\n",
              "        text-align: right;\n",
              "    }\n",
              "</style>\n",
              "<table border=\"1\" class=\"dataframe\">\n",
              "  <thead>\n",
              "    <tr style=\"text-align: right;\">\n",
              "      <th></th>\n",
              "      <th>variable</th>\n",
              "      <th>info_value</th>\n",
              "    </tr>\n",
              "  </thead>\n",
              "  <tbody>\n",
              "    <tr>\n",
              "      <th>6</th>\n",
              "      <td>prop_type_MH</td>\n",
              "      <td>0.097046</td>\n",
              "    </tr>\n",
              "    <tr>\n",
              "      <th>1</th>\n",
              "      <td>prop_type_PU</td>\n",
              "      <td>0.067367</td>\n",
              "    </tr>\n",
              "    <tr>\n",
              "      <th>9</th>\n",
              "      <td>occpy_sts_S</td>\n",
              "      <td>0.048128</td>\n",
              "    </tr>\n",
              "    <tr>\n",
              "      <th>2</th>\n",
              "      <td>cnt_units</td>\n",
              "      <td>0.047488</td>\n",
              "    </tr>\n",
              "    <tr>\n",
              "      <th>8</th>\n",
              "      <td>cnt_borr</td>\n",
              "      <td>0.032311</td>\n",
              "    </tr>\n",
              "    <tr>\n",
              "      <th>0</th>\n",
              "      <td>channel_C</td>\n",
              "      <td>0.026622</td>\n",
              "    </tr>\n",
              "    <tr>\n",
              "      <th>7</th>\n",
              "      <td>loan_purpose_N</td>\n",
              "      <td>0.018676</td>\n",
              "    </tr>\n",
              "    <tr>\n",
              "      <th>3</th>\n",
              "      <td>fico</td>\n",
              "      <td>0.010293</td>\n",
              "    </tr>\n",
              "    <tr>\n",
              "      <th>4</th>\n",
              "      <td>cltv</td>\n",
              "      <td>0.010246</td>\n",
              "    </tr>\n",
              "    <tr>\n",
              "      <th>5</th>\n",
              "      <td>channel_T</td>\n",
              "      <td>0.001570</td>\n",
              "    </tr>\n",
              "  </tbody>\n",
              "</table>\n",
              "</div>"
            ],
            "text/plain": [
              "         variable  info_value\n",
              "6    prop_type_MH    0.097046\n",
              "1    prop_type_PU    0.067367\n",
              "9     occpy_sts_S    0.048128\n",
              "2       cnt_units    0.047488\n",
              "8        cnt_borr    0.032311\n",
              "0       channel_C    0.026622\n",
              "7  loan_purpose_N    0.018676\n",
              "3            fico    0.010293\n",
              "4            cltv    0.010246\n",
              "5       channel_T    0.001570"
            ]
          },
          "metadata": {
            "tags": []
          },
          "execution_count": 31
        }
      ]
    },
    {
      "cell_type": "code",
      "metadata": {
        "colab": {
          "base_uri": "https://localhost:8080/",
          "height": 513
        },
        "id": "jPN6hkLTpJl9",
        "outputId": "dcd1ca6d-9662-41de-d531-0e3d7c423176"
      },
      "source": [
        "# Plot variable importance\r\n",
        "importances = sc.iv(train_data, 'BinaryDefault')['info_value']\r\n",
        "indices = np.argsort(importances)[::-1] \r\n",
        "\r\n",
        "f, ax = plt.subplots(figsize=(3, 8))\r\n",
        "plt.title(\"Variable Importance\")\r\n",
        "sns.set_color_codes(\"pastel\")\r\n",
        "sns.barplot(y=[train_data.iloc[:, :-1].columns[i] for i in indices], x=importances[indices], \r\n",
        "            label=\"Total\", color=\"b\")\r\n",
        "ax.set(ylabel=\"Variable\",\r\n",
        "       xlabel=\"Variable Importance (Entropy)\")\r\n",
        "sns.despine(left=True, bottom=True)"
      ],
      "execution_count": null,
      "outputs": [
        {
          "output_type": "display_data",
          "data": {
            "image/png": "[encoded data removed]",
            "text/plain": [
              "<Figure size 216x576 with 1 Axes>"
            ]
          },
          "metadata": {
            "tags": [],
            "needs_background": "light"
          }
        }
      ]
    },
    {
      "cell_type": "code",
      "metadata": {
        "colab": {
          "base_uri": "https://localhost:8080/"
        },
        "id": "bhFgHNehd3-8",
        "outputId": "cdf1eaaa-72a7-46dd-9273-d3f22590dfa5"
      },
      "source": [
        "pred_class_test = fit_train.predict(test_data.iloc[:,:-1])\r\n",
        "probs_test = fit_train.predict_proba(test_data.iloc[:,:-1])\r\n",
        "print(probs_test[0:5], pred_class_test[0:5])"
      ],
      "execution_count": null,
      "outputs": [
        {
          "output_type": "stream",
          "text": [
            "[[0.42150333 0.57849667]\n",
            " [0.19281158 0.80718842]\n",
            " [0.43526635 0.56473365]\n",
            " [0.54206188 0.45793812]\n",
            " [0.39823523 0.60176477]] [1 1 1 0 1]\n"
          ],
          "name": "stdout"
        }
      ]
    },
    {
      "cell_type": "markdown",
      "metadata": {
        "id": "7lE-MSsleYot"
      },
      "source": [
        "Confusion Matrix"
      ]
    },
    {
      "cell_type": "code",
      "metadata": {
        "id": "8sGvdMnCeNY8"
      },
      "source": [
        "from sklearn.metrics import confusion_matrix"
      ],
      "execution_count": null,
      "outputs": []
    },
    {
      "cell_type": "code",
      "metadata": {
        "colab": {
          "base_uri": "https://localhost:8080/"
        },
        "id": "YG9gQyPFfmSs",
        "outputId": "a4fc52ad-0416-42da-fda1-4357a299ec1f"
      },
      "source": [
        "confusion_matrix(y_true = test_data['BinaryDefault'], y_pred = pred_class_test)"
      ],
      "execution_count": null,
      "outputs": [
        {
          "output_type": "execute_result",
          "data": {
            "text/plain": [
              "array([[82, 69],\n",
              "       [44, 43]])"
            ]
          },
          "metadata": {
            "tags": []
          },
          "execution_count": 50
        }
      ]
    },
    {
      "cell_type": "code",
      "metadata": {
        "colab": {
          "base_uri": "https://localhost:8080/",
          "height": 240
        },
        "id": "obC6W6PtqJ3I",
        "outputId": "a3bd4dee-db1f-4464-ad6b-03dc8b5869f1"
      },
      "source": [
        "# Calculate confusion matrix\r\n",
        "confusion_matrix_logreg = confusion_matrix(y_true = test_data['BinaryDefault'], \r\n",
        "                    y_pred = pred_class_test)\r\n",
        "\r\n",
        "# Turn matrix to percentages\r\n",
        "confusion_matrix_logreg = confusion_matrix_logreg.astype('float') / confusion_matrix_logreg.sum(axis=1)[:, np.newaxis]\r\n",
        "\r\n",
        "# Turn to dataframe\r\n",
        "df_cm = pd.DataFrame(\r\n",
        "        confusion_matrix_logreg, index=['good', 'bad'], columns=['good', 'bad'], \r\n",
        ")\r\n",
        "\r\n",
        "# Parameters of the image\r\n",
        "figsize = (4,3)\r\n",
        "fontsize=10\r\n",
        "\r\n",
        "# Create image\r\n",
        "fig = plt.figure(figsize=figsize)\r\n",
        "heatmap = sns.heatmap(df_cm, annot=True, fmt='.2f')\r\n",
        "\r\n",
        "# Make it nicer\r\n",
        "heatmap.yaxis.set_ticklabels(heatmap.yaxis.get_ticklabels(), rotation=0, \r\n",
        "                             ha='right', fontsize=fontsize)\r\n",
        "heatmap.xaxis.set_ticklabels(heatmap.xaxis.get_ticklabels(), rotation=45,\r\n",
        "                             ha='right', fontsize=fontsize)\r\n",
        "\r\n",
        "# Add labels\r\n",
        "plt.ylabel('True label')\r\n",
        "plt.xlabel('Predicted label')\r\n",
        "\r\n",
        "# Plot!\r\n",
        "plt.show()"
      ],
      "execution_count": null,
      "outputs": [
        {
          "output_type": "display_data",
          "data": {
            "image/png": "[encoded data removed]",
            "text/plain": [
              "<Figure size 288x216 with 2 Axes>"
            ]
          },
          "metadata": {
            "tags": [],
            "needs_background": "light"
          }
        }
      ]
    },
    {
      "cell_type": "markdown",
      "metadata": {
        "id": "lOXTTkBEeTNs"
      },
      "source": [
        "AUC"
      ]
    },
    {
      "cell_type": "code",
      "metadata": {
        "id": "CcR0UoUleQtU"
      },
      "source": [
        "from sklearn.metrics import roc_auc_score"
      ],
      "execution_count": null,
      "outputs": []
    },
    {
      "cell_type": "code",
      "metadata": {
        "colab": {
          "base_uri": "https://localhost:8080/"
        },
        "id": "AzN6MZ-9eUL9",
        "outputId": "5d7d0ffa-d749-41fd-fb5b-718f8177fbe6"
      },
      "source": [
        "roc_auc_score(test_data['BinaryDefault'], probs_test[:,1])"
      ],
      "execution_count": null,
      "outputs": [
        {
          "output_type": "execute_result",
          "data": {
            "text/plain": [
              "0.59907132526452"
            ]
          },
          "metadata": {
            "tags": []
          },
          "execution_count": 60
        }
      ]
    },
    {
      "cell_type": "code",
      "metadata": {
        "colab": {
          "base_uri": "https://localhost:8080/",
          "height": 264
        },
        "id": "wMcBGoY2qMrs",
        "outputId": "3fab4adf-d908-458a-f113-7433316990e3"
      },
      "source": [
        "from sklearn.metrics import roc_auc_score, confusion_matrix, roc_curve\r\n",
        "\r\n",
        "# Calculate the ROC curve points\r\n",
        "fpr, tpr, thresholds = roc_curve(test_data['BinaryDefault'], probs_test[:,1])\r\n",
        "\r\n",
        "# Save the AUC in a variable to display it. Round it first\r\n",
        "auc = np.round(roc_auc_score(y_true = test_data['BinaryDefault'], \r\n",
        "                             y_score = probs_test[:,1]),\r\n",
        "              decimals = 4)\r\n",
        "\r\n",
        "# Create and show the plot\r\n",
        "plt.plot(fpr,tpr,label=\"logreg, auc=\"+str(auc))\r\n",
        "plt.legend(loc=4)\r\n",
        "plt.show()"
      ],
      "execution_count": null,
      "outputs": [
        {
          "output_type": "display_data",
          "data": {
            "image/png": "[encoded data removed]",
            "text/plain": [
              "<Figure size 432x288 with 1 Axes>"
            ]
          },
          "metadata": {
            "tags": [],
            "needs_background": "light"
          }
        }
      ]
    }
  ]
}