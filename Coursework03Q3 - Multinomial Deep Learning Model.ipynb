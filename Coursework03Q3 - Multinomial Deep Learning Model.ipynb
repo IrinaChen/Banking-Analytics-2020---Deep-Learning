{
  "nbformat": 4,
  "nbformat_minor": 0,
  "metadata": {
    "colab": {
      "name": "Coursework03Q3.ipynb",
      "provenance": [],
      "collapsed_sections": [],
      "authorship_tag": "ABX9TyMR408pzgcHxBFUNZlac6es",
      "include_colab_link": true
    },
    "kernelspec": {
      "name": "python3",
      "display_name": "Python 3"
    },
    "accelerator": "GPU"
  },
  "cells": [
    {
      "cell_type": "markdown",
      "metadata": {
        "id": "view-in-github",
        "colab_type": "text"
      },
      "source": [
        "<a href=\"https://colab.research.google.com/github/IrinaChen/Banking-Analytics-2020---Deep-Learning/blob/main/Coursework03Q3%20-%20Multinomial%20Deep%20Learning%20Model.ipynb\" target=\"_parent\"><img src=\"https://colab.research.google.com/assets/colab-badge.svg\" alt=\"Open In Colab\"/></a>"
      ]
    },
    {
      "cell_type": "code",
      "metadata": {
        "colab": {
          "base_uri": "https://localhost:8080/"
        },
        "id": "GgG66iQ-6Mql",
        "outputId": "a9e44c2c-cd43-4185-bce9-d4fc71fa43b7"
      },
      "source": [
        "from google.colab import drive\r\n",
        "drive.mount(\"/content/drive\")"
      ],
      "execution_count": null,
      "outputs": [
        {
          "output_type": "stream",
          "text": [
            "Mounted at /content/drive\n"
          ],
          "name": "stdout"
        }
      ]
    },
    {
      "cell_type": "code",
      "metadata": {
        "id": "YFL1E9zfRoru"
      },
      "source": [
        "import numpy as np\r\n",
        "import h5py as h5py\r\n",
        "import PIL\r\n",
        "\r\n",
        "# Others\r\n",
        "import numpy as np\r\n",
        "from sklearn.model_selection import train_test_split\r\n",
        "\r\n",
        "# For AUC estimation and ROC plots\r\n",
        "from sklearn.metrics import roc_curve, auc\r\n",
        "\r\n",
        "# Plots\r\n",
        "import matplotlib.pyplot as plt\r\n",
        "import seaborn as sns\r\n",
        "%matplotlib inline\r\n",
        "\r\n",
        "# Image and directories\r\n",
        "import cv2\r\n",
        "import os"
      ],
      "execution_count": null,
      "outputs": []
    },
    {
      "cell_type": "markdown",
      "metadata": {
        "id": "3vBRTq8bgTFl"
      },
      "source": [
        "**We have more than one image per area_number!**"
      ]
    },
    {
      "cell_type": "markdown",
      "metadata": {
        "id": "tJ4vMerDM4Lw"
      },
      "source": [
        "#### Unstructured data "
      ]
    },
    {
      "cell_type": "code",
      "metadata": {
        "colab": {
          "base_uri": "https://localhost:8080/"
        },
        "id": "rXlg7fRRMzig",
        "outputId": "c83243ee-03a3-44d3-845b-a3f08b19371f"
      },
      "source": [
        "!gdown \"https://drive.google.com/file/d/1Go7Kk1Una5ssoiSHYF70LR9Jrve2eS-Q/view?usp=sharing\""
      ],
      "execution_count": null,
      "outputs": [
        {
          "output_type": "stream",
          "text": [
            "/usr/local/lib/python2.7/dist-packages/gdown/parse_url.py:31: UserWarning: You specified Google Drive Link but it is not the correct link to download the file. Maybe you should try: https://drive.google.com/uc?id=1Go7Kk1Una5ssoiSHYF70LR9Jrve2eS-Q\n",
            "  .format(url='https://drive.google.com/uc?id={}'.format(file_id))\n",
            "Downloading...\n",
            "From: https://drive.google.com/file/d/1Go7Kk1Una5ssoiSHYF70LR9Jrve2eS-Q/view?usp=sharing\n",
            "To: /content/view?usp=sharing\n",
            "70.5kB [00:00, 621kB/s]\n"
          ],
          "name": "stdout"
        }
      ]
    },
    {
      "cell_type": "code",
      "metadata": {
        "id": "dk7raG2vM13X"
      },
      "source": [
        "!unzip '/content/drive/My Drive/DataC3FM95282020.zip'"
      ],
      "execution_count": null,
      "outputs": []
    },
    {
      "cell_type": "code",
      "metadata": {
        "id": "BzmoTbBqSceX",
        "colab": {
          "base_uri": "https://localhost:8080/"
        },
        "outputId": "9188b6c3-8bba-4290-d91b-645ce9429e6c"
      },
      "source": [
        "# Import base model. Using VGG19.\r\n",
        "from tensorflow.keras.applications.vgg19 import VGG19, preprocess_input\r\n",
        "model = VGG19(weights = 'imagenet',      # The weights from the ImageNet competition\r\n",
        "              include_top = False,       # Do not include the top layer, which classifies.\r\n",
        "              input_shape= (224, 224, 3) # Input shape. Three channels, and BGR (NOT RGB!!!)\r\n",
        "             )"
      ],
      "execution_count": null,
      "outputs": [
        {
          "output_type": "stream",
          "text": [
            "Downloading data from https://storage.googleapis.com/tensorflow/keras-applications/vgg19/vgg19_weights_tf_dim_ordering_tf_kernels_notop.h5\n",
            "80142336/80134624 [==============================] - 1s 0us/step\n"
          ],
          "name": "stdout"
        }
      ]
    },
    {
      "cell_type": "code",
      "metadata": {
        "id": "YnvE6yEwSjVP"
      },
      "source": [
        "from tensorflow.keras.preprocessing.image import ImageDataGenerator\r\n",
        "from tensorflow.keras import optimizers\r\n",
        "from tensorflow.keras.models import Sequential\r\n",
        "from tensorflow.keras.layers import *\r\n",
        "from tensorflow import keras"
      ],
      "execution_count": null,
      "outputs": []
    },
    {
      "cell_type": "code",
      "metadata": {
        "id": "pmJmEMdCSktG"
      },
      "source": [
        "# Create new model\r\n",
        "ImageOnlyModel = Sequential()\r\n",
        "\r\n",
        "# Copy the layers to our new model.\r\n",
        "for layer in model.layers:\r\n",
        "    ImageOnlyModel.add(layer)\r\n",
        "\r\n",
        "# Set the layers as untrainable\r\n",
        "for layer in ImageOnlyModel.layers:\r\n",
        "    layer.trainable = False\r\n",
        "\r\n",
        "# We now add the new layers for prediction.\r\n",
        "ImageOnlyModel.add(Flatten(input_shape=model.output_shape[1:]))\r\n",
        "ImageOnlyModel.add(Dense(64, activation = 'relu'))\r\n",
        "ImageOnlyModel.add(Dropout(0.5))\r\n",
        "ImageOnlyModel.add(Dense(64, activation = 'relu'))\r\n",
        "ImageOnlyModel.add(Dropout(0.5))\r\n",
        "\r\n",
        "# The output layer is relu\r\n",
        "ImageOnlyModel.add(Dense(1, activation = 'sigmoid'))\r\n",
        "\r\n",
        "# How does the model look like?\r\n",
        "ImageOnlyModel.summary()"
      ],
      "execution_count": null,
      "outputs": []
    },
    {
      "cell_type": "markdown",
      "metadata": {
        "id": "MEwQm92hM7Wo"
      },
      "source": [
        "#### Structure data "
      ]
    },
    {
      "cell_type": "code",
      "metadata": {
        "id": "Zy65PPi5IvsH"
      },
      "source": [
        "import pandas as pd\r\n",
        "import seaborn as sns\r\n",
        "import matplotlib.pyplot as plt\r\n",
        "import numpy as np\r\n",
        "%matplotlib inline"
      ],
      "execution_count": null,
      "outputs": []
    },
    {
      "cell_type": "code",
      "metadata": {
        "colab": {
          "base_uri": "https://localhost:8080/"
        },
        "id": "-iRtuaHGQqLH",
        "outputId": "3c562fdf-1741-414b-a267-f09b54ea979d"
      },
      "source": [
        "!gdown \"https://drive.google.com/file/d/1ylWhLR4uAXssaMQ9v4wxl2hBWYo4ArxT/view?usp=sharing\""
      ],
      "execution_count": null,
      "outputs": [
        {
          "output_type": "stream",
          "text": [
            "/usr/local/lib/python2.7/dist-packages/gdown/parse_url.py:31: UserWarning: You specified Google Drive Link but it is not the correct link to download the file. Maybe you should try: https://drive.google.com/uc?id=1ylWhLR4uAXssaMQ9v4wxl2hBWYo4ArxT\n",
            "  .format(url='https://drive.google.com/uc?id={}'.format(file_id))\n",
            "Downloading...\n",
            "From: https://drive.google.com/file/d/1ylWhLR4uAXssaMQ9v4wxl2hBWYo4ArxT/view?usp=sharing\n",
            "To: /content/view?usp=sharing\n",
            "62.4kB [00:00, 10.0MB/s]\n"
          ],
          "name": "stdout"
        }
      ]
    },
    {
      "cell_type": "code",
      "metadata": {
        "id": "waavxCzmM6cv"
      },
      "source": [
        "import pandas as pd\r\n",
        "\r\n",
        "\r\n",
        "data = pd.read_csv(\"/content/drive/My Drive/DefaultRiskperArea.csv\")"
      ],
      "execution_count": null,
      "outputs": []
    },
    {
      "cell_type": "code",
      "metadata": {
        "id": "gtVsVhNCQ1a3"
      },
      "source": [
        "data.describe()"
      ],
      "execution_count": null,
      "outputs": []
    },
    {
      "cell_type": "code",
      "metadata": {
        "id": "ihrJaqLeRVfW"
      },
      "source": [
        "data.head()"
      ],
      "execution_count": null,
      "outputs": []
    },
    {
      "cell_type": "code",
      "metadata": {
        "id": "2JcQspUmG9Wp"
      },
      "source": [
        "# Classify train and test set\r\n",
        "idx = pd.read_excel(\"/content/drive/My Drive/Index.xlsx\")\r\n"
      ],
      "execution_count": null,
      "outputs": []
    },
    {
      "cell_type": "code",
      "metadata": {
        "id": "tkfuqfs4HcRP"
      },
      "source": [
        "idx_list = idx[\"Index\"].tolist()"
      ],
      "execution_count": null,
      "outputs": []
    },
    {
      "cell_type": "code",
      "metadata": {
        "id": "6HCERgm3H-Fh"
      },
      "source": [
        "data[\"Indicator\"] = None"
      ],
      "execution_count": null,
      "outputs": []
    },
    {
      "cell_type": "code",
      "metadata": {
        "id": "pdNrlsvPHRjA"
      },
      "source": [
        "# Create an indicator column\r\n",
        "for i in range(len(data)):\r\n",
        "  if data[\"Area_Number\"][i] in idx_list:\r\n",
        "    data[\"Indicator\"][i] = \"Y\" \r\n",
        "  else:\r\n",
        "    data[\"Indicator\"][i] = \"N\""
      ],
      "execution_count": null,
      "outputs": []
    },
    {
      "cell_type": "code",
      "metadata": {
        "id": "6R_CPzkCHQe6"
      },
      "source": [
        "test_data = data.iloc[np.where(data[\"Indicator\"]==\"Y\")[0],:]\r\n",
        "train_data = data.iloc[np.where(data[\"Indicator\"]==\"N\")[0],:]"
      ],
      "execution_count": null,
      "outputs": []
    },
    {
      "cell_type": "code",
      "metadata": {
        "colab": {
          "base_uri": "https://localhost:8080/",
          "height": 426
        },
        "id": "J_pOxDSPKFmH",
        "outputId": "271df236-dc71-4bce-b349-4ed5c32fb491"
      },
      "source": [
        "data"
      ],
      "execution_count": null,
      "outputs": [
        {
          "output_type": "execute_result",
          "data": {
            "text/html": [
              "<div>\n",
              "<style scoped>\n",
              "    .dataframe tbody tr th:only-of-type {\n",
              "        vertical-align: middle;\n",
              "    }\n",
              "\n",
              "    .dataframe tbody tr th {\n",
              "        vertical-align: top;\n",
              "    }\n",
              "\n",
              "    .dataframe thead th {\n",
              "        text-align: right;\n",
              "    }\n",
              "</style>\n",
              "<table border=\"1\" class=\"dataframe\">\n",
              "  <thead>\n",
              "    <tr style=\"text-align: right;\">\n",
              "      <th></th>\n",
              "      <th>fico</th>\n",
              "      <th>mi_pct</th>\n",
              "      <th>cnt_units</th>\n",
              "      <th>cltv</th>\n",
              "      <th>ltv</th>\n",
              "      <th>cnt_borr</th>\n",
              "      <th>occpy_sts_S</th>\n",
              "      <th>channel_C</th>\n",
              "      <th>channel_T</th>\n",
              "      <th>prop_type_MH</th>\n",
              "      <th>prop_type_PU</th>\n",
              "      <th>loan_purpose_N</th>\n",
              "      <th>Area_Number</th>\n",
              "      <th>BinaryDefault</th>\n",
              "      <th>Indicator</th>\n",
              "    </tr>\n",
              "  </thead>\n",
              "  <tbody>\n",
              "    <tr>\n",
              "      <th>0</th>\n",
              "      <td>1.815482</td>\n",
              "      <td>-2.997902</td>\n",
              "      <td>0.277646</td>\n",
              "      <td>-4.035187</td>\n",
              "      <td>-3.964115</td>\n",
              "      <td>-2.273682</td>\n",
              "      <td>0.148702</td>\n",
              "      <td>-1.594817</td>\n",
              "      <td>-0.035245</td>\n",
              "      <td>-0.501916</td>\n",
              "      <td>-0.949227</td>\n",
              "      <td>-0.493965</td>\n",
              "      <td>634.0</td>\n",
              "      <td>0</td>\n",
              "      <td>Y</td>\n",
              "    </tr>\n",
              "    <tr>\n",
              "      <th>1</th>\n",
              "      <td>-0.521829</td>\n",
              "      <td>-2.227060</td>\n",
              "      <td>3.498789</td>\n",
              "      <td>-1.810005</td>\n",
              "      <td>-1.772268</td>\n",
              "      <td>-0.171886</td>\n",
              "      <td>-0.751896</td>\n",
              "      <td>-0.865516</td>\n",
              "      <td>-0.035245</td>\n",
              "      <td>-0.501916</td>\n",
              "      <td>-0.199528</td>\n",
              "      <td>-0.816696</td>\n",
              "      <td>417.0</td>\n",
              "      <td>0</td>\n",
              "      <td>N</td>\n",
              "    </tr>\n",
              "    <tr>\n",
              "      <th>2</th>\n",
              "      <td>-0.457652</td>\n",
              "      <td>-2.095699</td>\n",
              "      <td>10.741067</td>\n",
              "      <td>-1.211170</td>\n",
              "      <td>-1.174970</td>\n",
              "      <td>-1.394290</td>\n",
              "      <td>-0.712228</td>\n",
              "      <td>0.155562</td>\n",
              "      <td>-0.035245</td>\n",
              "      <td>-0.501916</td>\n",
              "      <td>-0.934777</td>\n",
              "      <td>-0.587245</td>\n",
              "      <td>678.0</td>\n",
              "      <td>0</td>\n",
              "      <td>N</td>\n",
              "    </tr>\n",
              "    <tr>\n",
              "      <th>3</th>\n",
              "      <td>0.636380</td>\n",
              "      <td>-0.929451</td>\n",
              "      <td>0.754667</td>\n",
              "      <td>-0.616046</td>\n",
              "      <td>-0.606611</td>\n",
              "      <td>0.626942</td>\n",
              "      <td>-0.663063</td>\n",
              "      <td>-0.827111</td>\n",
              "      <td>-0.035245</td>\n",
              "      <td>-0.501916</td>\n",
              "      <td>-0.676832</td>\n",
              "      <td>-0.666799</td>\n",
              "      <td>490.0</td>\n",
              "      <td>1</td>\n",
              "      <td>N</td>\n",
              "    </tr>\n",
              "    <tr>\n",
              "      <th>4</th>\n",
              "      <td>0.324697</td>\n",
              "      <td>-0.815769</td>\n",
              "      <td>0.896132</td>\n",
              "      <td>-0.609527</td>\n",
              "      <td>-0.580298</td>\n",
              "      <td>0.523027</td>\n",
              "      <td>-0.809006</td>\n",
              "      <td>-0.996611</td>\n",
              "      <td>-0.035245</td>\n",
              "      <td>-0.501916</td>\n",
              "      <td>-0.897400</td>\n",
              "      <td>-0.793784</td>\n",
              "      <td>717.0</td>\n",
              "      <td>0</td>\n",
              "      <td>N</td>\n",
              "    </tr>\n",
              "    <tr>\n",
              "      <th>...</th>\n",
              "      <td>...</td>\n",
              "      <td>...</td>\n",
              "      <td>...</td>\n",
              "      <td>...</td>\n",
              "      <td>...</td>\n",
              "      <td>...</td>\n",
              "      <td>...</td>\n",
              "      <td>...</td>\n",
              "      <td>...</td>\n",
              "      <td>...</td>\n",
              "      <td>...</td>\n",
              "      <td>...</td>\n",
              "      <td>...</td>\n",
              "      <td>...</td>\n",
              "      <td>...</td>\n",
              "    </tr>\n",
              "    <tr>\n",
              "      <th>788</th>\n",
              "      <td>-0.635748</td>\n",
              "      <td>-0.537949</td>\n",
              "      <td>-0.504865</td>\n",
              "      <td>-0.636134</td>\n",
              "      <td>-0.624775</td>\n",
              "      <td>1.024542</td>\n",
              "      <td>-0.623887</td>\n",
              "      <td>-1.239433</td>\n",
              "      <td>-0.035245</td>\n",
              "      <td>-0.501916</td>\n",
              "      <td>-0.811021</td>\n",
              "      <td>0.520058</td>\n",
              "      <td>743.0</td>\n",
              "      <td>0</td>\n",
              "      <td>Y</td>\n",
              "    </tr>\n",
              "    <tr>\n",
              "      <th>789</th>\n",
              "      <td>0.827999</td>\n",
              "      <td>0.685208</td>\n",
              "      <td>0.690687</td>\n",
              "      <td>0.211616</td>\n",
              "      <td>0.212083</td>\n",
              "      <td>-0.138212</td>\n",
              "      <td>-0.085434</td>\n",
              "      <td>-0.397011</td>\n",
              "      <td>-0.035245</td>\n",
              "      <td>-0.501916</td>\n",
              "      <td>0.017135</td>\n",
              "      <td>-0.821715</td>\n",
              "      <td>388.0</td>\n",
              "      <td>1</td>\n",
              "      <td>Y</td>\n",
              "    </tr>\n",
              "    <tr>\n",
              "      <th>790</th>\n",
              "      <td>-0.217318</td>\n",
              "      <td>0.191852</td>\n",
              "      <td>0.590651</td>\n",
              "      <td>0.014400</td>\n",
              "      <td>0.044998</td>\n",
              "      <td>0.129814</td>\n",
              "      <td>0.150415</td>\n",
              "      <td>-0.875257</td>\n",
              "      <td>-0.035245</td>\n",
              "      <td>-0.407222</td>\n",
              "      <td>-0.358295</td>\n",
              "      <td>-0.883066</td>\n",
              "      <td>397.0</td>\n",
              "      <td>0</td>\n",
              "      <td>N</td>\n",
              "    </tr>\n",
              "    <tr>\n",
              "      <th>791</th>\n",
              "      <td>0.165895</td>\n",
              "      <td>-0.935025</td>\n",
              "      <td>0.991450</td>\n",
              "      <td>-0.662455</td>\n",
              "      <td>-0.621446</td>\n",
              "      <td>0.419055</td>\n",
              "      <td>-0.192695</td>\n",
              "      <td>-0.897621</td>\n",
              "      <td>-0.035245</td>\n",
              "      <td>-0.501916</td>\n",
              "      <td>-0.916361</td>\n",
              "      <td>-0.881179</td>\n",
              "      <td>152.0</td>\n",
              "      <td>0</td>\n",
              "      <td>Y</td>\n",
              "    </tr>\n",
              "    <tr>\n",
              "      <th>792</th>\n",
              "      <td>-0.446872</td>\n",
              "      <td>-0.939167</td>\n",
              "      <td>2.264357</td>\n",
              "      <td>-0.792275</td>\n",
              "      <td>-0.767749</td>\n",
              "      <td>0.383718</td>\n",
              "      <td>0.394268</td>\n",
              "      <td>-1.948628</td>\n",
              "      <td>-0.035245</td>\n",
              "      <td>-0.501916</td>\n",
              "      <td>-0.874366</td>\n",
              "      <td>-0.256303</td>\n",
              "      <td>216.0</td>\n",
              "      <td>0</td>\n",
              "      <td>N</td>\n",
              "    </tr>\n",
              "  </tbody>\n",
              "</table>\n",
              "<p>793 rows × 15 columns</p>\n",
              "</div>"
            ],
            "text/plain": [
              "         fico    mi_pct  cnt_units  ...  Area_Number  BinaryDefault  Indicator\n",
              "0    1.815482 -2.997902   0.277646  ...        634.0              0          Y\n",
              "1   -0.521829 -2.227060   3.498789  ...        417.0              0          N\n",
              "2   -0.457652 -2.095699  10.741067  ...        678.0              0          N\n",
              "3    0.636380 -0.929451   0.754667  ...        490.0              1          N\n",
              "4    0.324697 -0.815769   0.896132  ...        717.0              0          N\n",
              "..        ...       ...        ...  ...          ...            ...        ...\n",
              "788 -0.635748 -0.537949  -0.504865  ...        743.0              0          Y\n",
              "789  0.827999  0.685208   0.690687  ...        388.0              1          Y\n",
              "790 -0.217318  0.191852   0.590651  ...        397.0              0          N\n",
              "791  0.165895 -0.935025   0.991450  ...        152.0              0          Y\n",
              "792 -0.446872 -0.939167   2.264357  ...        216.0              0          N\n",
              "\n",
              "[793 rows x 15 columns]"
            ]
          },
          "metadata": {
            "tags": []
          },
          "execution_count": 19
        }
      ]
    },
    {
      "cell_type": "code",
      "metadata": {
        "id": "0I-nv-ttI9nA"
      },
      "source": [
        "def getArea(filePath):\r\n",
        "    return int(re.search('(?<=Area).*(?=_)',filePath).group(0))\r\n",
        "\r\n",
        "\r\n",
        "import re\r\n",
        "import glob\r\n",
        "def combineFrames(path_0, path_1, bool_test):\r\n",
        "\r\n",
        "    Default0_df = pd.DataFrame(path_0,columns = [\"Path\"])\r\n",
        "    Default0_df['Default'] = 0 \r\n",
        "    Default0_df['Area'] = Default0_df['Path'].apply(lambda x: int(re.search('(?<=Area).*(?=_)',x).group(0)))\r\n",
        "\r\n",
        "    Default1_df = pd.DataFrame(path_1,columns = [\"Path\"])\r\n",
        "    Default1_df['Default'] = 1\r\n",
        "    Default1_df['Area'] = Default1_df['Path'].apply(lambda x: int(re.search('(?<=Area).*(?=_)',x).group(0)))\r\n",
        "\r\n",
        "    combined = pd.concat([Default1_df,Default0_df])\r\n",
        "    combined['TestSetFlag'] = bool_test\r\n",
        "\r\n",
        "    return combined"
      ],
      "execution_count": null,
      "outputs": []
    },
    {
      "cell_type": "code",
      "metadata": {
        "id": "KrwYe4kyJfy6"
      },
      "source": [
        "image_train = combineFrames(glob.glob(r'Data/train/0'  + \"/*.jpg\"),glob.glob(r'Data/train/1'  + \"/*.jpg\"),0)\r\n",
        "image_test= combineFrames(glob.glob(r'Data/test/0'  + \"/*.jpg\"),glob.glob(r'Data/test/1'  + \"/*.jpg\"),1)\r\n",
        "\r\n",
        "image_merged = pd.concat([image_train,image_test])"
      ],
      "execution_count": null,
      "outputs": []
    },
    {
      "cell_type": "code",
      "metadata": {
        "id": "hUgcrfc9hhck"
      },
      "source": [
        "image_train"
      ],
      "execution_count": null,
      "outputs": []
    },
    {
      "cell_type": "code",
      "metadata": {
        "id": "n-10Ib-KhiaX"
      },
      "source": [
        "image_merged"
      ],
      "execution_count": null,
      "outputs": []
    },
    {
      "cell_type": "code",
      "metadata": {
        "id": "dchZYazMJmgX"
      },
      "source": [
        "merged_data = image_merged.merge(data, how = 'left', left_on = 'Area', \r\n",
        "                                 right_on = 'Area_Number').drop(['Area','Default',\"Indicator\"], axis = 1)"
      ],
      "execution_count": null,
      "outputs": []
    },
    {
      "cell_type": "code",
      "metadata": {
        "id": "OJ_PP7zdKUBv"
      },
      "source": [
        "merged_data"
      ],
      "execution_count": null,
      "outputs": []
    },
    {
      "cell_type": "code",
      "metadata": {
        "id": "LB9pbXxbKapP"
      },
      "source": [
        "merged_data=merged_data.drop(['mi_pct','cltv','ltv','cnt_borr','prop_type_MH',\r\n",
        "                              'prop_type_PU','loan_purpose_N'],axis=1)"
      ],
      "execution_count": null,
      "outputs": []
    },
    {
      "cell_type": "code",
      "metadata": {
        "colab": {
          "base_uri": "https://localhost:8080/"
        },
        "id": "OiZxMKvWKdZf",
        "outputId": "2149b0a3-60c6-4add-d5b0-fc35f9206efc"
      },
      "source": [
        "from sklearn.preprocessing import MinMaxScaler\r\n",
        "\r\n",
        "# What are the continous variables?\r\n",
        "continousCols = ['fico','cnt_units']\r\n",
        "\r\n",
        "# Define scaler and train it over the train set.\r\n",
        "Scaler = MinMaxScaler()\r\n",
        "Scaler.fit(merged_data[continousCols])"
      ],
      "execution_count": null,
      "outputs": [
        {
          "output_type": "execute_result",
          "data": {
            "text/plain": [
              "MinMaxScaler(copy=True, feature_range=(0, 1))"
            ]
          },
          "metadata": {
            "tags": []
          },
          "execution_count": 25
        }
      ]
    },
    {
      "cell_type": "code",
      "metadata": {
        "id": "oW2wptDaOXYv"
      },
      "source": [
        "# Apply over sets. Ignore warning.\r\n",
        "merged_data[continousCols] = Scaler.transform(merged_data[continousCols])"
      ],
      "execution_count": null,
      "outputs": []
    },
    {
      "cell_type": "code",
      "metadata": {
        "id": "qu7t9HwJOZxG"
      },
      "source": [
        "merged_train=merged_data[merged_data.TestSetFlag==0]\r\n",
        "merged_test=merged_data[merged_data.TestSetFlag==1]"
      ],
      "execution_count": null,
      "outputs": []
    },
    {
      "cell_type": "code",
      "metadata": {
        "colab": {
          "base_uri": "https://localhost:8080/"
        },
        "id": "-B2utZHwOcW-",
        "outputId": "1707ab0d-be05-4c58-ad00-acfe551a53db"
      },
      "source": [
        "merged_train.columns"
      ],
      "execution_count": null,
      "outputs": [
        {
          "output_type": "execute_result",
          "data": {
            "text/plain": [
              "Index(['Path', 'TestSetFlag', 'fico', 'cnt_units', 'occpy_sts_S', 'channel_C',\n",
              "       'channel_T', 'Area_Number', 'BinaryDefault'],\n",
              "      dtype='object')"
            ]
          },
          "metadata": {
            "tags": []
          },
          "execution_count": 28
        }
      ]
    },
    {
      "cell_type": "code",
      "metadata": {
        "id": "MEK7v1lzNL_P"
      },
      "source": [
        "#ImagePath = 'Data'\r\n",
        "#data['path'] = [os.path.join(ImagePath, str(i) + '.jpg') for i in data[\"Area_Number\"].values]\r\n",
        "d#ata"
      ],
      "execution_count": null,
      "outputs": []
    },
    {
      "cell_type": "code",
      "metadata": {
        "id": "JIL_wRkwRsye"
      },
      "source": [
        "# Create a train / test split\r\n",
        "from sklearn.model_selection import train_test_split\r\n",
        "train, test = train_test_split(data, \r\n",
        "                               test_size = 0.3,\r\n",
        "                               random_state = 250747350)"
      ],
      "execution_count": null,
      "outputs": []
    },
    {
      "cell_type": "markdown",
      "metadata": {
        "id": "f3vXK5P7Tv1P"
      },
      "source": [
        "Ready! We can now load the data. We have our set of pictures ready for this example. For this problem we will use a generator. A generator takes images from a directory, and feeds them to the model as needed. **This is necessary to work with big data**. We cannot expect the datasets we work here to fit in memory, so we take the images as needed.\r\n",
        "\r\n",
        "We will first build two image generators (one for testing and one for training), which will generate new samples on the fly using our pictures as input.\r\n",
        "\r\n",
        "We will also conduct **data augmentation**, which are a series of mathematical operations over the datasets to make them search more complex patterns. If you use augmentation, learning will take longer but be more robust. The process to work with this data is the following:\r\n",
        "\r\n",
        "1. Create an [ImageDataGenerator](https://www.tensorflow.org/api_docs/python/tf/keras/preprocessing/image/ImageDataGenerator) object which will process the images and load them as needed.\r\n",
        "\r\n",
        "2. Call the ```flow_from_dataframe``` from our generator which will split the data into two parts, one for training and one for validation, and a third one for the test set."
      ]
    },
    {
      "cell_type": "code",
      "metadata": {
        "id": "OUESQYGRQJIu"
      },
      "source": [
        "from tensorflow.keras.applications.vgg19 import VGG19, preprocess_input"
      ],
      "execution_count": null,
      "outputs": []
    },
    {
      "cell_type": "code",
      "metadata": {
        "id": "wO_RVjbgQscX"
      },
      "source": [
        "from tensorflow.keras.preprocessing.image import ImageDataGenerator\r\n",
        "from tensorflow.keras import optimizers\r\n",
        "from tensorflow.keras.models import Sequential\r\n",
        "from tensorflow.keras.layers import *"
      ],
      "execution_count": null,
      "outputs": []
    },
    {
      "cell_type": "code",
      "metadata": {
        "id": "7ESteoKNSYYQ"
      },
      "source": [
        "import tensorflow as tf\r\n",
        "import keras\r\n",
        "ImageSize = (224,224)\r\n",
        "image_input = tf.keras.Input(shape=ImageSize + (3,), name = 'image_input')\r\n",
        "\r\n",
        "# Load an empty VGG\r\n",
        "vgg_input = VGG19(weights='imagenet', include_top=False)\r\n",
        "\r\n",
        "# Use the model API to attach it to our input layer.\r\n",
        "ImageClassifier = vgg_input(image_input)\r\n",
        "\r\n",
        "# Add a Flatten layer with the model API.\r\n",
        "ImageClassifier = Flatten()(ImageClassifier)\r\n",
        "\r\n",
        "# Now we create the structured data layer.\r\n",
        "predictive_features = 5\r\n",
        "features_input  = keras.Input(shape=(predictive_features,), name=\"structured_data\") \r\n",
        "Structured =  Dense(64, activation = 'relu' )(features_input) # Add one processing layer\r\n",
        "Structured =  Dropout(0.5)(Structured)   # Dropout after  Dense\r\n",
        "Structured =  Dense(64, activation = 'relu' )(Structured)\r\n",
        "Structured =  Dropout(0.5)(Structured)   # Dropout after  Dense\r\n",
        "\r\n",
        "# Merge all available features into a single large vector via concatenation\r\n",
        "merged = concatenate([ImageClassifier, Structured])\r\n",
        "\r\n",
        "# Add a few prediction layers\r\n",
        "merged = Dense(32, activation='relu')(merged)\r\n",
        "merged = Dropout(0.1)(merged)\r\n",
        "\r\n",
        "area_default = Dense(1, activation='sigmoid', name=\"area_default\")(merged)\r\n",
        "\r\n",
        "# Instantiate an end-to-end model predicting house_prices\r\n",
        "multimodal_model = keras.Model(inputs=[image_input, features_input], \r\n",
        "                               outputs=[area_default])"
      ],
      "execution_count": null,
      "outputs": []
    },
    {
      "cell_type": "code",
      "metadata": {
        "id": "Widl-4eIOmoA"
      },
      "source": [
        "# Compile with same optimizer as before.\r\n",
        "multimodal_model.compile(loss='binary_crossentropy', \r\n",
        "              optimizer=optimizers.Adadelta(learning_rate=0.01)\r\n",
        "              \r\n",
        "              )"
      ],
      "execution_count": null,
      "outputs": []
    },
    {
      "cell_type": "code",
      "metadata": {
        "colab": {
          "base_uri": "https://localhost:8080/",
          "height": 855
        },
        "id": "-YC6_-9jQ9UO",
        "outputId": "e246aa73-1043-4e9a-9a5b-d9b8e9f50f0b"
      },
      "source": [
        "import pydot as pyd\r\n",
        "from tensorflow.keras.utils import plot_model\r\n",
        "\r\n",
        "#Visualize Model\r\n",
        "plot_model(\r\n",
        "          multimodal_model, to_file='model.png', show_shapes=False, show_layer_names=True,\r\n",
        "          rankdir='TB', expand_nested=False, dpi=96\r\n",
        "          )"
      ],
      "execution_count": null,
      "outputs": [
        {
          "output_type": "execute_result",
          "data": {
            "image/png": "[encoded data removed]",
            "text/plain": [
              "<IPython.core.display.Image object>"
            ]
          },
          "metadata": {
            "tags": []
          },
          "execution_count": 68
        }
      ]
    },
    {
      "cell_type": "code",
      "metadata": {
        "id": "j5YCFk_HQ9zx"
      },
      "source": [
        "from sklearn.utils import shuffle \r\n",
        "#Shuffle as flow from dataframe doesnt shuffle\r\n",
        "\r\n",
        "merged_train = shuffle(merged_train)"
      ],
      "execution_count": null,
      "outputs": []
    },
    {
      "cell_type": "code",
      "metadata": {
        "id": "-DLYQDmYRC2O"
      },
      "source": [
        "merged_train"
      ],
      "execution_count": null,
      "outputs": []
    },
    {
      "cell_type": "code",
      "metadata": {
        "id": "g9tIO3EMQ9r-"
      },
      "source": [
        ""
      ],
      "execution_count": null,
      "outputs": []
    },
    {
      "cell_type": "code",
      "metadata": {
        "colab": {
          "base_uri": "https://localhost:8080/"
        },
        "id": "25PbPE-kVduO",
        "outputId": "00453a47-f8e9-4d67-a22a-801906819131"
      },
      "source": [
        "# prepare data augmentation configuration. One for train, one for test.\r\n",
        "train_datagen = ImageDataGenerator(\r\n",
        "                                  #rescale=1. / 255,                         # NNets like small inputs. Rescale.\r\n",
        "                                  shear_range=0.2,                          # Shear?\r\n",
        "                                  zoom_range=0.2,                           # Zoom? 0.2 means from 80% to 120%\r\n",
        "                                  horizontal_flip=True,                     # Flip horizontally?\r\n",
        "                                  vertical_flip=True, \r\n",
        "                                  #fill_mode = \"nearest\",                     \r\n",
        "                                  preprocessing_function=preprocess_input,  # VGG expects specific input. Set it up with this function that comes prepackaged.\r\n",
        "                                  validation_split = 0.2                    # Create a validation cut?\r\n",
        "                                  )\r\n",
        "\r\n",
        "test_datagen = ImageDataGenerator(\r\n",
        "                                  #rescale=1. / 255,                       # NNets like small inputs. Rescale.\r\n",
        "                                  shear_range=0,                          # Shear?\r\n",
        "                                  zoom_range=0,                           # Zoom? 0.2 means from 80% to 120%\r\n",
        "                                  horizontal_flip=False,                  # Flip horizontally?\r\n",
        "                                  vertical_flip=False,  \r\n",
        "                                  #fill_mode = \"nearest\",\r\n",
        "                                  preprocessing_function=preprocess_input,# VGG expects specific input. Set it up with this function that comes prepackaged.\r\n",
        "                                  validation_split = 0                    # No validation cut for test.\r\n",
        "                                  )\r\n",
        "\r\n",
        "\r\n",
        "\r\n",
        "batch_size = 8\r\n",
        "\r\n",
        "# Train data generator. We point to the training directory!\r\n",
        "train_data_dir = 'Data/train'\r\n",
        "\r\n",
        "# VGG requires 224 x 224 images.\r\n",
        "(img_height, img_width) = (224, 224)\r\n",
        "\r\n",
        "train_generator = train_datagen.flow_from_directory(\r\n",
        "                                                    train_data_dir,                      # Where are the pics\r\n",
        "                                                    target_size=(img_height, img_width), # What size should they be\r\n",
        "                                                    batch_size=batch_size,               # Size of batch\r\n",
        "                                                    class_mode='binary',            # Class mode, whether 'binary' or 'categorical'\r\n",
        "                                                    subset = 'training',                 # What subset to use?\r\n",
        "                                                    shuffle = True                       # Shuffle the data?\r\n",
        "                                                    )\r\n",
        "\r\n",
        "validation_generator = train_datagen.flow_from_directory(\r\n",
        "                                                    train_data_dir,                      # Where are the pics\r\n",
        "                                                    target_size=(img_height, img_width), # What size should they be\r\n",
        "                                                    batch_size=batch_size,               # Size of batch\r\n",
        "                                                    class_mode='binary',            # Class mode, whether 'binary' or 'categorical'\r\n",
        "                                                    subset = 'validation',               # What subset to use?\r\n",
        "                                                    shuffle = True                       # Shuffle the data?\r\n",
        "                                                    )\r\n",
        "\r\n",
        "# Test data generator.\r\n",
        "test_data_dir = 'Data/test'\r\n",
        "test_generator = test_datagen.flow_from_directory(\r\n",
        "                                                  test_data_dir,\r\n",
        "                                                  target_size=(img_height, img_width),\r\n",
        "                                                  batch_size=1,\r\n",
        "                                                  class_mode='binary',\r\n",
        "                                                  shuffle = False\r\n",
        "                                                  )"
      ],
      "execution_count": null,
      "outputs": [
        {
          "output_type": "stream",
          "text": [
            "Found 3988 images belonging to 2 classes.\n",
            "Found 996 images belonging to 2 classes.\n",
            "Found 2142 images belonging to 2 classes.\n"
          ],
          "name": "stdout"
        }
      ]
    },
    {
      "cell_type": "code",
      "metadata": {
        "id": "BW4XZ9yNX2RO",
        "colab": {
          "base_uri": "https://localhost:8080/"
        },
        "outputId": "321647ab-0afb-45b0-c571-d40394271ebb"
      },
      "source": [
        "# Define parameters\r\n",
        "target_size = (224, 224)\r\n",
        "batch_size = 8 #32\r\n",
        "DataDir = 'Data'\r\n",
        "\r\n",
        "# What are the useful columns? Note the position of the target. \r\n",
        "pred_cols = np.r_[2:9]\r\n",
        "\r\n",
        "\r\n",
        "\r\n",
        "# We only modify the generators. Note the y vector.\r\n",
        "train_generator = train_datagen.flow_from_dataframe(merged_train,\r\n",
        "                                                    directory='.',\r\n",
        "                                                    x_col='Path',\r\n",
        "                                                    y_col=merged_train.columns[pred_cols],\r\n",
        "                                                    target_size=target_size,\r\n",
        "                                                    batch_size=batch_size,\r\n",
        "                                                    shuffle=True,\r\n",
        "                                                    class_mode='raw',\r\n",
        "                                                    subset='training',\r\n",
        "                                                    interpolation=\"bilinear\"\r\n",
        "                                                   )\r\n",
        "validation_generator = train_datagen.flow_from_dataframe(merged_train,\r\n",
        "                                                    directory='.',\r\n",
        "                                                    x_col='Path',\r\n",
        "                                                    y_col=merged_train.columns[pred_cols],\r\n",
        "                                                    target_size=target_size,\r\n",
        "                                                    batch_size=batch_size,\r\n",
        "                                                    shuffle=True,\r\n",
        "                                                    class_mode='raw',\r\n",
        "                                                    subset='validation',\r\n",
        "                                                    interpolation=\"bilinear\"\r\n",
        "                                                   )\r\n",
        "                                                   \r\n",
        "test_generator = test_datagen.flow_from_dataframe(merged_test,\r\n",
        "                                                    directory='.',\r\n",
        "                                                    x_col='Path',\r\n",
        "                                                    y_col=merged_test.columns[pred_cols],\r\n",
        "                                                    target_size=target_size,\r\n",
        "                                                    batch_size=batch_size,\r\n",
        "                                                    shuffle=False,\r\n",
        "                                                    class_mode='raw',\r\n",
        "                                                    interpolation=\"bilinear\"\r\n",
        "                                                   )\r\n",
        "\r\n",
        "# Define combined generator\r\n",
        "def train_generator_func():\r\n",
        "    count = 0\r\n",
        "    train_generator.reset()\r\n",
        "    while True:\r\n",
        "        if  count == len(merged_train.index):\r\n",
        "            train_generator.reset()\r\n",
        "            count==0\r\n",
        "        count += 1\r\n",
        "        data = train_generator.next()\r\n",
        "\r\n",
        "        # Let's identify where is what.\r\n",
        "        target_location = 6\r\n",
        "        predictive_columns = np.r_[0:5]\r\n",
        "\r\n",
        "        # Now we reshape everything. First the images.\r\n",
        "        imgs = data[0]\r\n",
        "        # Now we need to extract which ones are the predictive variables.\r\n",
        "        cols = data[1][:, predictive_columns]\r\n",
        "        # Finally we need the targets.\r\n",
        "        targets = data[1][:, target_location]\r\n",
        "        yield [imgs, cols], targets\r\n",
        "\r\n",
        "\r\n",
        "def validation_generator_func():\r\n",
        "    count = 0\r\n",
        "    validation_generator.reset()\r\n",
        "    while True:\r\n",
        "        if count == len(merged_train.index):\r\n",
        "            validation_generator.reset()\r\n",
        "            count==0\r\n",
        "        count += 1\r\n",
        "        data = validation_generator.next()\r\n",
        "\r\n",
        "        # Let's identify where is what.\r\n",
        "        target_location = 6 \r\n",
        "        predictive_columns = np.r_[0:5]\r\n",
        "\r\n",
        "        # Now we reshape everything. First the images.\r\n",
        "        imgs = data[0]\r\n",
        "        # Now we need to extract which ones are the predictive variables.\r\n",
        "        cols = data[1][:, predictive_columns]\r\n",
        "        # Finally we need the targets.\r\n",
        "        targets = data[1][:, target_location]\r\n",
        "        yield [imgs, cols], targets\r\n",
        "        \r\n",
        "        \r\n",
        "def test_generator_func():\r\n",
        "    count = 0\r\n",
        "    test_generator.reset()\r\n",
        "    while True:\r\n",
        "        if count == len(merged_test.index):\r\n",
        "            test_generator.reset()\r\n",
        "            count==0\r\n",
        "        count += 1\r\n",
        "        data = test_generator.next()\r\n",
        "\r\n",
        "        # Let's identify where is what.\r\n",
        "        target_location = 6\r\n",
        "        predictive_columns = np.r_[0:5]\r\n",
        "\r\n",
        "        # Now we reshape everything. First the images.\r\n",
        "        imgs = data[0]\r\n",
        "        # Now we need to extract which ones are the predictive variables.\r\n",
        "        cols = data[1][:, predictive_columns]\r\n",
        "        # Finally we need the targets.\r\n",
        "        targets = data[1][:, target_location]\r\n",
        "        yield [imgs, cols], targets"
      ],
      "execution_count": null,
      "outputs": [
        {
          "output_type": "stream",
          "text": [
            "Found 3988 validated image filenames.\n",
            "Found 996 validated image filenames.\n",
            "Found 2142 validated image filenames.\n"
          ],
          "name": "stdout"
        }
      ]
    },
    {
      "cell_type": "code",
      "metadata": {
        "id": "UBOSW2EgW4Z_"
      },
      "source": [
        "temp = validation_generator.next()"
      ],
      "execution_count": null,
      "outputs": []
    },
    {
      "cell_type": "code",
      "metadata": {
        "id": "MKk3Mif7W5Aw"
      },
      "source": [
        "temp[0]"
      ],
      "execution_count": null,
      "outputs": []
    },
    {
      "cell_type": "code",
      "metadata": {
        "id": "lO2PHDbhW8a1"
      },
      "source": [
        "# This is how the data comes out now.\r\n",
        "train_test_output = train_generator_func()\r\n",
        "next(train_test_output)"
      ],
      "execution_count": null,
      "outputs": []
    },
    {
      "cell_type": "code",
      "metadata": {
        "id": "kpXB-XxTW0yQ"
      },
      "source": [
        "#steps_per_epoch = train_generator.samples // train_generator.batch_size\r\n",
        "#validation_steps = validation_generator.samples // validation_generator.batch_size\r\n",
        "steps_per_epoch  = 80\r\n",
        "validation_steps = 20\r\n",
        "\r\n",
        "multimodal_model.fit(train_generator_func(),\r\n",
        "                      epochs=55,\r\n",
        "                      steps_per_epoch=steps_per_epoch,\r\n",
        "                      validation_data=validation_generator_func(),\r\n",
        "                      validation_steps=validation_steps\r\n",
        "                     )"
      ],
      "execution_count": null,
      "outputs": []
    },
    {
      "cell_type": "code",
      "metadata": {
        "id": "SPMiQrrrYa0X"
      },
      "source": [
        "multimodal_model.save('drive/MyDrive/Q3.h5')"
      ],
      "execution_count": null,
      "outputs": []
    },
    {
      "cell_type": "markdown",
      "metadata": {
        "id": "aN45xq5kX3o9"
      },
      "source": [
        "## Multimodal model\r\n",
        "\r\n",
        "Now we can train a multi-input model. The idea of this model is to create two inputs, one with the images and the second one with the structured data. We need to first transform the zipcodes into a binary input and normalize the data though. The following code does the preprocessing of the data."
      ]
    },
    {
      "cell_type": "markdown",
      "metadata": {
        "id": "TbawUb4uDHla"
      },
      "source": [
        "The model is better! This is the power of a multimodal learning strategy. It allows combining background knowledge (structured data) with unstructured data to reach combined outputs. Let's check the training plot and the testing error."
      ]
    },
    {
      "cell_type": "code",
      "metadata": {
        "id": "udh7IaCFDEpI"
      },
      "source": [
        "loss = multimodal_model.history.history['loss']\r\n",
        "val_loss = multimodal_model.history.history['val_loss']\r\n",
        "epochs = range(1, len(loss) + 1)\r\n",
        "plt.plot(epochs, loss, 'bo', label='Training loss')\r\n",
        "plt.plot(epochs, val_loss, 'b', label='Validation loss')\r\n",
        "plt.title('Training and validation loss')\r\n",
        "plt.xlabel('Epochs')\r\n",
        "plt.ylabel('Loss')\r\n",
        "plt.legend()\r\n",
        "plt.show()"
      ],
      "execution_count": null,
      "outputs": []
    },
    {
      "cell_type": "code",
      "metadata": {
        "id": "5JazgUePDLtw"
      },
      "source": [
        "# Calculate outputs in test set\r\n",
        "STEP_SIZE_TEST = test_generator.n//test_generator.batch_size\r\n"
      ],
      "execution_count": null,
      "outputs": []
    },
    {
      "cell_type": "code",
      "metadata": {
        "id": "eofq5GT3bGKT"
      },
      "source": [
        "test_generator.reset()\r\n",
        "output = multimodal_model.predict(test_generator_func(),\r\n",
        "                                    steps=STEP_SIZE_TEST+1,\r\n",
        "                                    verbose=1)\r\n",
        "output"
      ],
      "execution_count": null,
      "outputs": []
    },
    {
      "cell_type": "code",
      "metadata": {
        "id": "DMAQevgFbXdy"
      },
      "source": [
        "roc_auc_score(y_true = test_generator.labels[:,6], y_score = output)"
      ],
      "execution_count": null,
      "outputs": []
    },
    {
      "cell_type": "code",
      "metadata": {
        "id": "aKFDP4O5Y-bt"
      },
      "source": [
        "from sklearn.metrics import roc_auc_score, confusion_matrix, roc_curve\r\n",
        "\r\n",
        "# Calculate the ROC curve points\r\n",
        "fpr, tpr, thresholds = roc_curve(test_generator.labels[:,6], output)\r\n",
        "\r\n",
        "# Save the AUC in a variable to display it. Round it first\r\n",
        "auc = np.round(roc_auc_score(y_true = test_generator.labels[:,6], \r\n",
        "                             y_score = output),\r\n",
        "              decimals = 2)\r\n",
        "\r\n",
        "# Create and show the plot\r\n",
        "plt.plot(fpr,tpr,label=\"logreg, auc=\"+str(auc))\r\n",
        "plt.legend(loc=4)\r\n",
        "plt.show()"
      ],
      "execution_count": null,
      "outputs": []
    },
    {
      "cell_type": "code",
      "metadata": {
        "id": "WOJ83qSpDOrh"
      },
      "source": [
        ""
      ],
      "execution_count": null,
      "outputs": []
    }
  ]
}